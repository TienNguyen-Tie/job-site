{
 "cells": [
  {
   "cell_type": "code",
   "execution_count": 4,
   "metadata": {},
   "outputs": [],
   "source": [
    "import pandas as pd\n",
    "import glob"
   ]
  },
  {
   "cell_type": "code",
   "execution_count": 5,
   "metadata": {},
   "outputs": [],
   "source": [
    "data_sources = glob.glob(\"./*.csv\")\n",
    "\n",
    "ind_sources = [source for source in data_sources if \"ind\" in source]"
   ]
  },
  {
   "cell_type": "code",
   "execution_count": 8,
   "metadata": {},
   "outputs": [],
   "source": [
    "ind = []\n",
    "for ind_source in ind_sources:\n",
    "    tmp_df = pd.read_csv(f'{ind_source}')\n",
    "    top5_df = tmp_df.head(5)\n",
    "    top5_df.insert(0, 'Site', ind_source[2:-19])\n",
    "    date = ind_source[-14:-4]\n",
    "    top5_df.insert(0, 'Date', date)\n",
    "    ind.append(top5_df)\n",
    "\n",
    "ind_df = pd.concat(ind).drop(columns = \"Unnamed: 0\")"
   ]
  },
  {
   "cell_type": "code",
   "execution_count": 9,
   "metadata": {},
   "outputs": [
    {
     "data": {
      "text/html": [
       "<div>\n",
       "<style scoped>\n",
       "    .dataframe tbody tr th:only-of-type {\n",
       "        vertical-align: middle;\n",
       "    }\n",
       "\n",
       "    .dataframe tbody tr th {\n",
       "        vertical-align: top;\n",
       "    }\n",
       "\n",
       "    .dataframe thead th {\n",
       "        text-align: right;\n",
       "    }\n",
       "</style>\n",
       "<table border=\"1\" class=\"dataframe\">\n",
       "  <thead>\n",
       "    <tr style=\"text-align: right;\">\n",
       "      <th></th>\n",
       "      <th>Date</th>\n",
       "      <th>Site</th>\n",
       "      <th>Industry</th>\n",
       "      <th>No. of Jobs</th>\n",
       "    </tr>\n",
       "  </thead>\n",
       "  <tbody>\n",
       "    <tr>\n",
       "      <th>0</th>\n",
       "      <td>2020-03-30</td>\n",
       "      <td>careerlink</td>\n",
       "      <td>Bán hàng</td>\n",
       "      <td>4478.0</td>\n",
       "    </tr>\n",
       "    <tr>\n",
       "      <th>1</th>\n",
       "      <td>2020-03-30</td>\n",
       "      <td>careerlink</td>\n",
       "      <td>Tư vấn</td>\n",
       "      <td>2864.0</td>\n",
       "    </tr>\n",
       "    <tr>\n",
       "      <th>2</th>\n",
       "      <td>2020-03-30</td>\n",
       "      <td>careerlink</td>\n",
       "      <td>Dịch vụ khách hàng</td>\n",
       "      <td>2474.0</td>\n",
       "    </tr>\n",
       "    <tr>\n",
       "      <th>3</th>\n",
       "      <td>2020-03-30</td>\n",
       "      <td>careerlink</td>\n",
       "      <td>Kế toán / Kiểm toán</td>\n",
       "      <td>2019.0</td>\n",
       "    </tr>\n",
       "    <tr>\n",
       "      <th>4</th>\n",
       "      <td>2020-03-30</td>\n",
       "      <td>careerlink</td>\n",
       "      <td>Kỹ thuật ứng dụng / Cơ khí</td>\n",
       "      <td>1738.0</td>\n",
       "    </tr>\n",
       "    <tr>\n",
       "      <th>...</th>\n",
       "      <td>...</td>\n",
       "      <td>...</td>\n",
       "      <td>...</td>\n",
       "      <td>...</td>\n",
       "    </tr>\n",
       "    <tr>\n",
       "      <th>0</th>\n",
       "      <td>2020-04-20</td>\n",
       "      <td>careerlink</td>\n",
       "      <td>Bán hàng</td>\n",
       "      <td>3460.0</td>\n",
       "    </tr>\n",
       "    <tr>\n",
       "      <th>1</th>\n",
       "      <td>2020-04-20</td>\n",
       "      <td>careerlink</td>\n",
       "      <td>Tư vấn</td>\n",
       "      <td>2693.0</td>\n",
       "    </tr>\n",
       "    <tr>\n",
       "      <th>2</th>\n",
       "      <td>2020-04-20</td>\n",
       "      <td>careerlink</td>\n",
       "      <td>Dịch vụ khách hàng</td>\n",
       "      <td>1867.0</td>\n",
       "    </tr>\n",
       "    <tr>\n",
       "      <th>3</th>\n",
       "      <td>2020-04-20</td>\n",
       "      <td>careerlink</td>\n",
       "      <td>Kế toán / Kiểm toán</td>\n",
       "      <td>1648.0</td>\n",
       "    </tr>\n",
       "    <tr>\n",
       "      <th>4</th>\n",
       "      <td>2020-04-20</td>\n",
       "      <td>careerlink</td>\n",
       "      <td>Tiếp thị</td>\n",
       "      <td>1409.0</td>\n",
       "    </tr>\n",
       "  </tbody>\n",
       "</table>\n",
       "<p>155 rows × 4 columns</p>\n",
       "</div>"
      ],
      "text/plain": [
       "          Date        Site                     Industry  No. of Jobs\n",
       "0   2020-03-30  careerlink                     Bán hàng       4478.0\n",
       "1   2020-03-30  careerlink                       Tư vấn       2864.0\n",
       "2   2020-03-30  careerlink           Dịch vụ khách hàng       2474.0\n",
       "3   2020-03-30  careerlink          Kế toán / Kiểm toán       2019.0\n",
       "4   2020-03-30  careerlink   Kỹ thuật ứng dụng / Cơ khí       1738.0\n",
       "..         ...         ...                          ...          ...\n",
       "0   2020-04-20  careerlink                     Bán hàng       3460.0\n",
       "1   2020-04-20  careerlink                       Tư vấn       2693.0\n",
       "2   2020-04-20  careerlink           Dịch vụ khách hàng       1867.0\n",
       "3   2020-04-20  careerlink          Kế toán / Kiểm toán       1648.0\n",
       "4   2020-04-20  careerlink                     Tiếp thị       1409.0\n",
       "\n",
       "[155 rows x 4 columns]"
      ]
     },
     "execution_count": 9,
     "metadata": {},
     "output_type": "execute_result"
    }
   ],
   "source": [
    "ind_df"
   ]
  },
  {
   "cell_type": "code",
   "execution_count": 10,
   "metadata": {},
   "outputs": [],
   "source": [
    "ind_df.to_csv(f'final-ind.csv')"
   ]
  },
  {
   "cell_type": "code",
   "execution_count": null,
   "metadata": {},
   "outputs": [],
   "source": []
  }
 ],
 "metadata": {
  "kernelspec": {
   "display_name": "Python 3",
   "language": "python",
   "name": "python3"
  },
  "language_info": {
   "codemirror_mode": {
    "name": "ipython",
    "version": 3
   },
   "file_extension": ".py",
   "mimetype": "text/x-python",
   "name": "python",
   "nbconvert_exporter": "python",
   "pygments_lexer": "ipython3",
   "version": "3.8.1"
  }
 },
 "nbformat": 4,
 "nbformat_minor": 4
}
