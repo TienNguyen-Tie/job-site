{
 "cells": [
  {
   "cell_type": "code",
   "execution_count": 1,
   "metadata": {},
   "outputs": [],
   "source": [
    "import requests\n",
    "import pandas as pd\n",
    "from bs4 import BeautifulSoup\n",
    "from pandas import DataFrame\n",
    "\n",
    "def to_int(x):\n",
    "    if type(x) is int:\n",
    "        return x\n",
    "    return int(x.replace(\",\",\"\"))"
   ]
  },
  {
   "cell_type": "code",
   "execution_count": 12,
   "metadata": {},
   "outputs": [
    {
     "name": "stdout",
     "output_type": "stream",
     "text": [
      "5753\n"
     ]
    }
   ],
   "source": [
    "#Total Jobs of Vietlam24h\n",
    "url = \"https://mywork.com.vn/tuyen-dung\"\n",
    "page = requests.get(url)\n",
    "\n",
    "soup = BeautifulSoup(page.text, 'html.parser')\n",
    "soup.prettify()\n",
    "\n",
    "total_jobs_r = soup.find(\"div\", id=\"idJobNew\").find(\"p\").get_text()\n",
    "\n",
    "total_jobs = total_jobs_r.split()[2]\n",
    "total_jobs = to_int(total_jobs)\n",
    "print(total_jobs)"
   ]
  },
  {
   "cell_type": "code",
   "execution_count": 15,
   "metadata": {},
   "outputs": [
    {
     "name": "stdout",
     "output_type": "stream",
     "text": [
      "5753\n"
     ]
    }
   ],
   "source": [
    "#Jobs by Senority\n",
    "url_list = ('https://mywork.com.vn/tuyen-dung?ranks=1',\n",
    "           'https://mywork.com.vn/tuyen-dung?ranks=2',\n",
    "           'https://mywork.com.vn/tuyen-dung?ranks=3',\n",
    "           'https://mywork.com.vn/tuyen-dung?ranks=4',\n",
    "           'https://mywork.com.vn/tuyen-dung?ranks=5',\n",
    "           'https://mywork.com.vn/tuyen-dung?ranks=6',\n",
    "           'https://mywork.com.vn/tuyen-dung?ranks=7',\n",
    "           'https://mywork.com.vn/tuyen-dung?ranks=8')\n",
    "\n",
    "jobs_senority = ['Intern', 'Nhân Viên', 'Trưởng Nhóm', 'Trưởng Phòng', 'Phó Giám Đốc', 'Giám Đốc', 'Tổng Giám Đốc Điều Hành', 'Khác']\n",
    "jobs_senority_no = []\n",
    "\n",
    "for url_se in url_list:\n",
    "    page = requests.get(url_se)\n",
    "    \n",
    "    soup = BeautifulSoup(page.text, 'html.parser')\n",
    "    soup.prettify()\n",
    "\n",
    "    total_jobs_senority_r = soup.find(\"div\", id=\"idJobNew\").find(\"p\").get_text()\n",
    "\n",
    "    total_jobs_senority = total_jobs_senority_r.split()[2]\n",
    "    \n",
    "    total_jobs_senority = to_int(total_jobs_senority)\n",
    "    jobs_senority_no.append(total_jobs_senority)\n",
    "    \n",
    "jobs_senority_dict = dict(zip(jobs_senority, jobs_senority_no))"
   ]
  },
  {
   "cell_type": "code",
   "execution_count": 22,
   "metadata": {},
   "outputs": [
    {
     "data": {
      "text/html": [
       "<div>\n",
       "<style scoped>\n",
       "    .dataframe tbody tr th:only-of-type {\n",
       "        vertical-align: middle;\n",
       "    }\n",
       "\n",
       "    .dataframe tbody tr th {\n",
       "        vertical-align: top;\n",
       "    }\n",
       "\n",
       "    .dataframe thead th {\n",
       "        text-align: right;\n",
       "    }\n",
       "</style>\n",
       "<table border=\"1\" class=\"dataframe\">\n",
       "  <thead>\n",
       "    <tr style=\"text-align: right;\">\n",
       "      <th></th>\n",
       "      <th>Total Jobs</th>\n",
       "      <th>Intern</th>\n",
       "      <th>Nhân Viên</th>\n",
       "      <th>Trưởng Nhóm</th>\n",
       "      <th>Trưởng Phòng</th>\n",
       "      <th>Phó Giám Đốc</th>\n",
       "      <th>Giám Đốc</th>\n",
       "      <th>Tổng Giám Đốc Điều Hành</th>\n",
       "      <th>Khác</th>\n",
       "    </tr>\n",
       "  </thead>\n",
       "  <tbody>\n",
       "    <tr>\n",
       "      <th>0</th>\n",
       "      <td>5753</td>\n",
       "      <td>364</td>\n",
       "      <td>5035</td>\n",
       "      <td>161</td>\n",
       "      <td>114</td>\n",
       "      <td>4</td>\n",
       "      <td>14</td>\n",
       "      <td>0</td>\n",
       "      <td>61</td>\n",
       "    </tr>\n",
       "  </tbody>\n",
       "</table>\n",
       "</div>"
      ],
      "text/plain": [
       "   Total Jobs  Intern  Nhân Viên  Trưởng Nhóm  Trưởng Phòng  Phó Giám Đốc  \\\n",
       "0        5753     364       5035          161           114             4   \n",
       "\n",
       "   Giám Đốc  Tổng Giám Đốc Điều Hành  Khác  \n",
       "0        14                        0    61  "
      ]
     },
     "execution_count": 22,
     "metadata": {},
     "output_type": "execute_result"
    }
   ],
   "source": [
    "Myworks = pd.DataFrame.from_dict(jobs_senority_dict, orient='index')\n",
    "Myworks = Myworks.transpose()\n",
    "\n",
    "Myworks.insert(0, 'Total Jobs', total_jobs)\n",
    "\n",
    "Myworks"
   ]
  },
  {
   "cell_type": "code",
   "execution_count": 23,
   "metadata": {},
   "outputs": [
    {
     "data": {
      "text/html": [
       "<div>\n",
       "<style scoped>\n",
       "    .dataframe tbody tr th:only-of-type {\n",
       "        vertical-align: middle;\n",
       "    }\n",
       "\n",
       "    .dataframe tbody tr th {\n",
       "        vertical-align: top;\n",
       "    }\n",
       "\n",
       "    .dataframe thead th {\n",
       "        text-align: right;\n",
       "    }\n",
       "</style>\n",
       "<table border=\"1\" class=\"dataframe\">\n",
       "  <thead>\n",
       "    <tr style=\"text-align: right;\">\n",
       "      <th></th>\n",
       "      <th>Total Jobs</th>\n",
       "      <th>Intern</th>\n",
       "      <th>Junior</th>\n",
       "      <th>Senior</th>\n",
       "      <th>Manager/Director</th>\n",
       "    </tr>\n",
       "  </thead>\n",
       "  <tbody>\n",
       "    <tr>\n",
       "      <th>0</th>\n",
       "      <td>5753</td>\n",
       "      <td>364</td>\n",
       "      <td>5096</td>\n",
       "      <td>275</td>\n",
       "      <td>18</td>\n",
       "    </tr>\n",
       "  </tbody>\n",
       "</table>\n",
       "</div>"
      ],
      "text/plain": [
       "   Total Jobs  Intern  Junior  Senior  Manager/Director\n",
       "0        5753     364    5096     275                18"
      ]
     },
     "execution_count": 23,
     "metadata": {},
     "output_type": "execute_result"
    }
   ],
   "source": [
    "sum_exe = Myworks['Nhân Viên'] + Myworks['Khác']\n",
    "sum_lead = Myworks['Trưởng Phòng'] + Myworks['Trưởng Nhóm']\n",
    "sum_mana = Myworks['Phó Giám Đốc'] + Myworks['Giám Đốc'] + Myworks['Tổng Giám Đốc Điều Hành']\n",
    "\n",
    "Myworks[\"Junior\"] = sum_exe\n",
    "Myworks[\"Senior\"] = sum_lead\n",
    "Myworks[\"Manager/Director\"] = sum_mana\n",
    "\n",
    "Myworks = Myworks.drop(['Nhân Viên','Giám Đốc', 'Trưởng Nhóm', 'Trưởng Phòng', 'Phó Giám Đốc', 'Tổng Giám Đốc Điều Hành', 'Khác'],axis=1)\n",
    "Myworks_results_sen = Myworks\n",
    "Myworks_results_sen"
   ]
  },
  {
   "cell_type": "code",
   "execution_count": null,
   "metadata": {},
   "outputs": [],
   "source": [
    "# Jobs by industries\n",
    "# url = \"https://mywork.com.vn/tuyen-dung\"\n",
    "# page = requests.get(url)\n",
    "\n",
    "# soup = BeautifulSoup(page.text, 'html.parser')\n",
    "# soup.prettify()\n",
    "\n",
    "\n",
    "# industries_url = []\n",
    "# full_ind_dict = {}\n",
    "# full_ind = []\n",
    "# industries_jobs_no = []\n",
    "\n",
    "# print(soup)\n",
    "\n",
    "# industries_url_raw = soup.find('div', class_='pd-15').find_all('a', href=True)\n",
    "# print(industries_url_raw)\n",
    "\n",
    "# industry_name_r = soup.find('div', class_='box_white mt_16 bold').find_all('span', class_='text_pink')[1].get_text()\n",
    "# full_ind.append(industry_name_r)\n",
    "\n",
    "# def unique(list1): \n",
    "#     # insert the list to the set \n",
    "#     list_set = set(list1) \n",
    "#     # convert the set to the list \n",
    "#     unique_list = (list(list_set)) \n",
    "#     return unique_list\n",
    "\n",
    "# industries_url_raw=unique(industries_url_raw)\n",
    "\n",
    "# for industry in industries_url_raw:\n",
    "#     href = industry.get('href')\n",
    "#     industries_url.append(href)\n",
    "\n",
    "# for industry in industries_url:\n",
    "#     page = requests.get(industry)\n",
    "\n",
    "#     soup = BeautifulSoup(page.text, 'html.parser')\n",
    "\n",
    "#     industry_no_r = soup.find('div', class_='box_white mt_16 bold').get_text()\n",
    "#     industry_name_r = soup.find('div', class_='box_white mt_16 bold').find_all('span', class_='text_pink')[1].get_text()\n",
    "#     full_ind.append(industry_name_r)\n",
    "#     for s in industry_no_r.split(): \n",
    "#         if s.isdigit():\n",
    "#             industries_jobs_no = int(s)\n",
    "\n",
    "#     full_ind_dict[f'{industry_name_r}'] = to_int(industries_jobs_no)   \n",
    "# result.append(full_ind_dict)\n",
    "\n",
    "\n",
    "\n"
   ]
  },
  {
   "cell_type": "code",
   "execution_count": null,
   "metadata": {},
   "outputs": [],
   "source": [
    "from datetime import date\n",
    "Myworks_results_sen.to_csv(f'mywork-sen-{date.today()}.csv')"
   ]
  }
 ],
 "metadata": {
  "kernelspec": {
   "display_name": "Python 3",
   "language": "python",
   "name": "python3"
  },
  "language_info": {
   "codemirror_mode": {
    "name": "ipython",
    "version": 3
   },
   "file_extension": ".py",
   "mimetype": "text/x-python",
   "name": "python",
   "nbconvert_exporter": "python",
   "pygments_lexer": "ipython3",
   "version": "3.8.3"
  }
 },
 "nbformat": 4,
 "nbformat_minor": 4
}
