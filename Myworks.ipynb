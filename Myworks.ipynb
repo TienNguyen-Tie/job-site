{
 "cells": [
  {
   "cell_type": "code",
   "execution_count": 1,
   "metadata": {},
   "outputs": [],
   "source": [
    "import requests\n",
    "import pandas as pd\n",
    "from datetime import date\n",
    "from bs4 import BeautifulSoup\n",
    "from pandas import DataFrame"
   ]
  },
  {
   "cell_type": "code",
   "execution_count": 2,
   "metadata": {},
   "outputs": [],
   "source": [
    "#Time by Days\n",
    "today = date.today()"
   ]
  },
  {
   "cell_type": "code",
   "execution_count": 3,
   "metadata": {},
   "outputs": [
    {
     "name": "stdout",
     "output_type": "stream",
     "text": [
      "5,404\n"
     ]
    }
   ],
   "source": [
    "#Total Jobs of Vietlam24h\n",
    "url = \"https://mywork.com.vn/tuyen-dung\"\n",
    "page = requests.get(url)\n",
    "\n",
    "soup = BeautifulSoup(page.text, 'html.parser')\n",
    "soup.prettify()\n",
    "\n",
    "total_jobs_r = soup.find(\"div\", class_=\"item item_1\").get_text()\n",
    "\n",
    "total_jobs = total_jobs_r.split()[2]\n",
    "\n",
    "print(total_jobs)"
   ]
  },
  {
   "cell_type": "code",
   "execution_count": null,
   "metadata": {},
   "outputs": [],
   "source": [
    "# Jobs by industries\n",
    "\n",
    "full_job_inds_dict = {}\n",
    "\n",
    "job_inds = soup.find('div', class_='row box-follow-category').find_all('div')\n",
    "\n",
    "for ind in job_inds:\n",
    "    job_ind = ind.find('a').get_text()\n",
    "    job_ind_no = ind.find('span').get_text()\n",
    "    job_ind_no = job_ind_no[1:-1]\n",
    "    full_job_inds_dict[f'{job_ind}'] = job_ind_no\n",
    "\n",
    "df1 = pd.DataFrame(full_job_inds_dict.items(), columns = ['Industry','Number of Jobs'])\n",
    "print(df1)\n",
    "row box-follow-category\n",
    "\n",
    "\n",
    "\n"
   ]
  }
 ],
 "metadata": {
  "kernelspec": {
   "display_name": "Python 3",
   "language": "python",
   "name": "python3"
  },
  "language_info": {
   "codemirror_mode": {
    "name": "ipython",
    "version": 3
   },
   "file_extension": ".py",
   "mimetype": "text/x-python",
   "name": "python",
   "nbconvert_exporter": "python",
   "pygments_lexer": "ipython3",
   "version": "3.8.1"
  }
 },
 "nbformat": 4,
 "nbformat_minor": 4
}
