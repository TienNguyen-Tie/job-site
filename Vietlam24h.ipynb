{
 "cells": [
  {
   "cell_type": "code",
   "execution_count": 16,
   "metadata": {},
   "outputs": [],
   "source": [
    "import requests\n",
    "import pandas as pd\n",
    "from datetime import date\n",
    "from bs4 import BeautifulSoup\n",
    "from pandas import DataFrame\n",
    "\n",
    "def to_int(x):\n",
    "    if type(x) is int:\n",
    "        return x\n",
    "    return int(x.replace(\",\",\"\"))"
   ]
  },
  {
   "cell_type": "code",
   "execution_count": 17,
   "metadata": {},
   "outputs": [],
   "source": [
    "url = \"https://vieclam24h.vn/tim-kiem-viec-lam-nhanh?hdn_tu_khoa=&tk_select_gate=&hdn_nganh_nghe_cap1=&hdn_dia_diem=\"\n",
    "page = requests.get(url)\n",
    "\n",
    "soup = BeautifulSoup(page.text, 'html.parser')\n",
    "soup.prettify()\n",
    "\n",
    "total_jobs_r = soup.find(\"span\", class_=\"text-tim-nhat uppercase\").get_text()\n",
    "total_jobs = total_jobs_r[-5:-1]"
   ]
  },
  {
   "cell_type": "code",
   "execution_count": 18,
   "metadata": {},
   "outputs": [],
   "source": [
    "Vietlam24h = {\n",
    "             'Total Jobs': to_int(total_jobs),\n",
    "             }\n",
    "\n",
    "master_df = DataFrame()"
   ]
  },
  {
   "cell_type": "code",
   "execution_count": null,
   "metadata": {},
   "outputs": [],
   "source": [
    "url_ind_list = [\"https://vieclam24h.vn/mien-nam/viec-lam-lao-dong-pho-thong/viec-lam-theo-nganh-nghe\",\n",
    "               'https://vieclam24h.vn/mien-nam/viec-lam-quan-ly/viec-lam-theo-nganh-nghe',\n",
    "               'https://vieclam24h.vn/mien-nam/viec-lam-chuyen-mon/viec-lam-theo-nganh-nghe',\n",
    "               'https://vieclam24h.vn/mien-nam/viec-lam-ban-thoi-gian/viec-lam-theo-nganh-nghe']\n",
    "result = []\n",
    "for url_ind in url_ind_list:\n",
    "    page = requests.get(url_ind)\n",
    "    soup = BeautifulSoup(page.text, 'html.parser')\n",
    "    soup.prettify()\n",
    "\n",
    "    senority = soup.find('span', class_='txt-ghi mb10 font13 italic').get_text()\n",
    "    senority = senority[16:]\n",
    "\n",
    "    industries_url = []\n",
    "    full_ind_dict = {}\n",
    "    full_ind = []\n",
    "    industries_jobs_no = []\n",
    "\n",
    "    industries_url_raw = soup.find('div', class_='pl_8 pr_8').find_all('a', href=True)\n",
    "    def unique(list1): \n",
    "\n",
    "        # insert the list to the set \n",
    "        list_set = set(list1) \n",
    "        # convert the set to the list \n",
    "        unique_list = (list(list_set)) \n",
    "        return unique_list\n",
    "\n",
    "    industries_url_raw=unique(industries_url_raw)\n",
    "\n",
    "    for industry in industries_url_raw:\n",
    "        href = industry.get('href')\n",
    "        industries_url.append(href)\n",
    "\n",
    "    for industry in industries_url:\n",
    "        page = requests.get(industry)\n",
    "\n",
    "        soup = BeautifulSoup(page.text, 'html.parser')\n",
    "\n",
    "        industry_no_r = soup.find('div', class_='box_white mt_16 bold').get_text()\n",
    "        industry_name_r = soup.find('div', class_='box_white mt_16 bold').find_all('span', class_='text_pink')[1].get_text()\n",
    "        full_ind.append(industry_name_r)\n",
    "        for s in industry_no_r.split(): \n",
    "            if s.isdigit():\n",
    "                industries_jobs_no = int(s)\n",
    "\n",
    "        full_ind_dict[f'{industry_name_r}'] = to_int(industries_jobs_no)   \n",
    "    result.append(full_ind_dict)"
   ]
  },
  {
   "cell_type": "code",
   "execution_count": null,
   "metadata": {},
   "outputs": [],
   "source": [
    "final = {}\n",
    "\n",
    "def checkNone(x, key):\n",
    "    if key not in x:\n",
    "        return 0\n",
    "    else:\n",
    "        return x[key]\n",
    "\n",
    "for key in result[3].keys():\n",
    "    total = checkNone(result[0],key) + checkNone(result[1],key) + checkNone(result[2],key) + checkNone(result[3],key)\n",
    "    final[key] = total\n",
    "\n",
    "total_jobs = sum(final.values())\n"
   ]
  },
  {
   "cell_type": "code",
   "execution_count": null,
   "metadata": {},
   "outputs": [],
   "source": [
    "Vietlam24h = {\n",
    "             'Total Jobs': total_jobs,\n",
    "             'Industry': full_ind,\n",
    "             }\n",
    "\n",
    "df = DataFrame(Vietlam24h, columns=['Total Jobs', 'Industry'])"
   ]
  },
  {
   "cell_type": "code",
   "execution_count": null,
   "metadata": {},
   "outputs": [],
   "source": [
    "senior_pd_r = pd.DataFrame.from_dict(result)\n",
    "no_of_senior = senior_pd_r.sum(axis=1, skipna=True)\n",
    "no_of_senior = pd.DataFrame(no_of_senior)\n",
    "\n",
    "dictionary = no_of_senior.to_dict()\n",
    "d = dictionary.get(0)\n",
    "Vietlam24h.update(d)\n",
    "\n",
    "df = DataFrame(Vietlam24h, columns=['Time', 'Total Jobs',3,0,2,1, 'Industry'])\n",
    "df.rename(columns={3:'Intern', 0:'Junior', 2: 'Senior', 1: 'Manager/Director'}, inplace = True)"
   ]
  },
  {
   "cell_type": "code",
   "execution_count": null,
   "metadata": {},
   "outputs": [],
   "source": [
    "senior_pd = senior_pd_r.transpose()\n",
    "\n",
    "data = senior_pd.sum(axis = 1, skipna=True)\n",
    "senior_pd.insert(4, 'No. of Jobs', data)\n",
    "senior_pd = senior_pd.reset_index()\n",
    "senior_pd.rename(columns = {'index':'Industry',0:'Junior',1: 'Manager/Director', 2:'Senior', 3: 'Intern'}, inplace = True)"
   ]
  },
  {
   "cell_type": "code",
   "execution_count": null,
   "metadata": {},
   "outputs": [],
   "source": [
    "Vietlam24h_result = pd.merge(df,\n",
    "                 senior_pd[['Industry','No. of Jobs']],\n",
    "                 on='Industry')\n",
    "# Vietlam24h_result.sort_values(by=['Total'])\n",
    "Vietlam24h_result"
   ]
  }
 ],
 "metadata": {
  "kernelspec": {
   "display_name": "Python 3",
   "language": "python",
   "name": "python3"
  },
  "language_info": {
   "codemirror_mode": {
    "name": "ipython",
    "version": 3
   },
   "file_extension": ".py",
   "mimetype": "text/x-python",
   "name": "python",
   "nbconvert_exporter": "python",
   "pygments_lexer": "ipython3",
   "version": "3.7.4"
  }
 },
 "nbformat": 4,
 "nbformat_minor": 4
}
