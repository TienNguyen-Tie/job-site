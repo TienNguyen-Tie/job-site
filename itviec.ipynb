{
 "cells": [
  {
   "cell_type": "code",
   "execution_count": 2,
   "metadata": {},
   "outputs": [],
   "source": [
    "import requests\n",
    "import pandas as pd\n",
    "from bs4 import BeautifulSoup\n",
    "from pandas import DataFrame\n",
    "\n",
    "def to_int(x):\n",
    "    if type(x) is int:\n",
    "        return x\n",
    "    return int(x.replace(\",\",\"\").replace(\".\",\"\"))"
   ]
  },
  {
   "cell_type": "code",
   "execution_count": 3,
   "metadata": {},
   "outputs": [],
   "source": [
    "url = \"https://itviec.com/it-jobs\"\n",
    "\n",
    "page = requests.get(url)\n",
    "\n",
    "soup = BeautifulSoup(page.text, 'html.parser')\n",
    "\n",
    "jobs = soup.find(\"div\", id =\"jobs\").find(\"h1\").get_text()\n",
    "total_jobs = to_int(jobs.split()[0])"
   ]
  },
  {
   "cell_type": "code",
   "execution_count": 4,
   "metadata": {},
   "outputs": [],
   "source": [
    "url = \"https://itviec.com/it-jobs/senior\"\n",
    "\n",
    "page = requests.get(url)\n",
    "\n",
    "soup = BeautifulSoup(page.text, 'html.parser')\n",
    "\n",
    "jobs = soup.find(\"div\", id =\"jobs\").find(\"h1\").get_text()\n",
    "senior = to_int(jobs.split()[0])"
   ]
  },
  {
   "cell_type": "code",
   "execution_count": 5,
   "metadata": {},
   "outputs": [],
   "source": [
    "url = \"https://itviec.com/it-jobs/manager\"\n",
    "\n",
    "page = requests.get(url)\n",
    "\n",
    "soup = BeautifulSoup(page.text, 'html.parser')\n",
    "\n",
    "jobs = soup.find(\"div\", id =\"jobs\").find(\"h1\").get_text()\n",
    "manager = to_int(jobs.split()[0])"
   ]
  },
  {
   "cell_type": "code",
   "execution_count": 6,
   "metadata": {},
   "outputs": [],
   "source": [
    "ITViec = {\n",
    "        'Industry': \"IT\",\n",
    "        'Total Jobs': total_jobs,\n",
    "        'Junior': senior-manager,\n",
    "        'Senior': senior,\n",
    "        'Manager/Director': manager,\n",
    "        'No. of Jobs': total_jobs,\n",
    "        }\n",
    "\n",
    "df = DataFrame(ITViec, columns= ['Industry','Total Jobs', 'No. of Jobs', 'Junior', 'Senior', 'Manager/Director'],index=[0])"
   ]
  },
  {
   "cell_type": "code",
   "execution_count": 7,
   "metadata": {},
   "outputs": [],
   "source": [
    "from datetime import date\n",
    "df.to_csv(f'itviec-sen-{date.today()}.csv')"
   ]
  },
  {
   "cell_type": "code",
   "execution_count": null,
   "metadata": {},
   "outputs": [],
   "source": []
  }
 ],
 "metadata": {
  "kernelspec": {
   "display_name": "Python 3",
   "language": "python",
   "name": "python3"
  },
  "language_info": {
   "codemirror_mode": {
    "name": "ipython",
    "version": 3
   },
   "file_extension": ".py",
   "mimetype": "text/x-python",
   "name": "python",
   "nbconvert_exporter": "python",
   "pygments_lexer": "ipython3",
   "version": "3.7.4"
  }
 },
 "nbformat": 4,
 "nbformat_minor": 2
}
