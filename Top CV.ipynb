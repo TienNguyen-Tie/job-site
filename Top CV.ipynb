{
 "cells": [
  {
   "cell_type": "code",
   "execution_count": 1,
   "metadata": {},
   "outputs": [],
   "source": [
    "import requests\n",
    "import pandas as pd\n",
    "from datetime import date\n",
    "from bs4 import BeautifulSoup\n",
    "from pandas import DataFrame\n",
    "\n",
    "def to_int(x):\n",
    "    if type(x) is int:\n",
    "        return x\n",
    "    return int(x.replace(\",\",\"\"))"
   ]
  },
  {
   "cell_type": "code",
   "execution_count": 3,
   "metadata": {},
   "outputs": [
    {
     "name": "stdout",
     "output_type": "stream",
     "text": [
      "15536\n"
     ]
    }
   ],
   "source": [
    "#Total Jobs of Vietlam24h\n",
    "url = \"https://www.topcv.vn/viec-lam/moi-nhat.html\"\n",
    "page = requests.get(url)\n",
    "\n",
    "soup = BeautifulSoup(page.text, 'html.parser')\n",
    "soup.prettify()\n",
    "\n",
    "total_jobs_r = soup.find(\"div\", class_=\"col-sm-4 meta-count text-normal\").get_text()\n",
    "\n",
    "total_jobs = total_jobs_r.split()[0]\n",
    "total_jobs = to_int(total_jobs)\n",
    "print(total_jobs)"
   ]
  },
  {
   "cell_type": "code",
   "execution_count": null,
   "metadata": {},
   "outputs": [],
   "source": []
  }
 ],
 "metadata": {
  "kernelspec": {
   "display_name": "Python 3",
   "language": "python",
   "name": "python3"
  },
  "language_info": {
   "codemirror_mode": {
    "name": "ipython",
    "version": 3
   },
   "file_extension": ".py",
   "mimetype": "text/x-python",
   "name": "python",
   "nbconvert_exporter": "python",
   "pygments_lexer": "ipython3",
   "version": "3.8.1"
  }
 },
 "nbformat": 4,
 "nbformat_minor": 4
}
