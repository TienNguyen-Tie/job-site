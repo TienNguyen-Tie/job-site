{
 "cells": [
  {
   "cell_type": "code",
   "execution_count": 1,
   "metadata": {},
   "outputs": [],
   "source": [
    "import requests\n",
    "import pandas as pd\n",
    "from datetime import date\n",
    "from bs4 import BeautifulSoup\n",
    "from pandas import DataFrame"
   ]
  },
  {
   "cell_type": "code",
   "execution_count": 2,
   "metadata": {},
   "outputs": [],
   "source": [
    "#Time by Days\n",
    "today = date.today()"
   ]
  },
  {
   "cell_type": "code",
   "execution_count": 17,
   "metadata": {},
   "outputs": [
    {
     "name": "stdout",
     "output_type": "stream",
     "text": [
      "18,266\n"
     ]
    }
   ],
   "source": [
    "#Total Jobs of Vietlam24h\n",
    "url = \"https://www.careerlink.vn/vieclam/list?keyword_use=A\"\n",
    "page = requests.get(url)\n",
    "\n",
    "soup = BeautifulSoup(page.text, 'html.parser')\n",
    "soup.prettify()\n",
    "\n",
    "total_jobs_r = soup.find(\"div\", class_=\"col-md-7\").get_text()\n",
    "\n",
    "total_jobs = total_jobs_r.split()[2]\n",
    "\n",
    "print(total_jobs)"
   ]
  },
  {
   "cell_type": "code",
   "execution_count": 18,
   "metadata": {},
   "outputs": [
    {
     "name": "stdout",
     "output_type": "stream",
     "text": [
      "                               Industry Number of Jobs\n",
      "0     Biên phiên dịch / Thông dịch viên            911\n",
      "1          Biên phiên dịch (tiếng Nhật)            591\n",
      "2                               Nhân sự            830\n",
      "3                        Pháp lý / Luật            199\n",
      "4                   Thư ký / Hành chánh           1769\n",
      "5                      An Ninh / Bảo Vệ            108\n",
      "6                       Bán lẻ / Bán sỉ           1103\n",
      "7              Chăm sóc sức khỏe / Y tế            337\n",
      "8                    Dịch vụ khách hàng           2363\n",
      "9         Phi chính phủ / Phi lợi nhuận              0\n",
      "10                             Bảo hiểm            411\n",
      "11                  Kế toán / Kiểm toán           1904\n",
      "12              Ngân hàng / Chứng khoán            430\n",
      "13                   Tài chính / Đầu tư           1093\n",
      "14                             Bán hàng           4186\n",
      "15                        Hàng gia dụng             65\n",
      "16   Quảng cáo / Khuyến mãi / Đối ngoại           1033\n",
      "17                           Thời trang            206\n",
      "18                             Tiếp thị           1443\n",
      "19                               Tư vấn           2198\n",
      "20         Quản lý chất lượng (QA / QC)            622\n",
      "21    Vận chuyển / Giao thông / Kho bãi            954\n",
      "22                    Vật tư / Mua hàng            385\n",
      "23        Xuất nhập khẩu / Ngoại thương            437\n",
      "24              CNTT - Phần cứng / Mạng            574\n",
      "25                      CNTT - Phần mềm           1178\n",
      "26                              Du lịch            120\n",
      "27                            Khách sạn            577\n",
      "28           Nhà hàng / Dịch vụ ăn uống            570\n",
      "29                   Bảo trì / Sửa chữa            704\n",
      "30               Điện lạnh / Nhiệt lạnh            251\n",
      "31                      Dược / Sinh học            396\n",
      "32                       Điện / Điện tử           1183\n",
      "33           Kỹ thuật ứng dụng / Cơ khí           1586\n",
      "34         Môi trường / Xử lý chất thải            118\n",
      "35                     An Toàn Lao Động            113\n",
      "36                 Dầu khí / Khoáng sản             17\n",
      "37                    Dệt may / Da giày            364\n",
      "38                                Đồ Gỗ             84\n",
      "39      Hóa chất / Sinh hóa / Thực phẩm            466\n",
      "40             Nông nghiệp / Lâm nghiệp             70\n",
      "41                                 Ô tô            151\n",
      "42         Sản xuất / Vận hành sản xuất           1067\n",
      "43                         Thuỷ Hải Sản             53\n",
      "44                         Bất động sản            290\n",
      "45                            Kiến trúc            260\n",
      "46                Nội thất / Ngoại thất            238\n",
      "47                             Xây dựng            695\n",
      "48   Báo chí / Biên tập viên / Xuất bản            264\n",
      "49     Nghệ thuật / Thiết kế / Giải trí            643\n",
      "50                           Viễn Thông            250\n",
      "51                   Lao động phổ thông            632\n",
      "52            Mới tốt nghiệp / Thực tập           1139\n",
      "53                     Người nước ngoài              1\n",
      "54                    Quản lý điều hành            202\n",
      "55                                 Khác             56\n"
     ]
    }
   ],
   "source": [
    "url = \"https://www.careerlink.vn/tim-viec-lam-nhanh\"\n",
    "\n",
    "page = requests.get(url)\n",
    "\n",
    "soup = BeautifulSoup(page.text, 'html.parser')\n",
    "soup.prettify()\n",
    "\n",
    "full_job_inds_dict = {}\n",
    "\n",
    "job_inds = soup.find('div', class_='masonry-container').find_all('li')\n",
    "\n",
    "for ind in job_inds:\n",
    "    job_ind = ind.find('a').get_text()\n",
    "    job_ind_no = ind.find('span').get_text()\n",
    "    job_ind_no = job_ind_no[1:-1]\n",
    "    full_job_inds_dict[f'{job_ind}'] = job_ind_no\n",
    "\n",
    "df1 = pd.DataFrame(full_job_inds_dict.items(), columns = ['Industry','Number of Jobs'])\n",
    "print(df1)\n",
    "    \n"
   ]
  },
  {
   "cell_type": "code",
   "execution_count": null,
   "metadata": {},
   "outputs": [],
   "source": [
    "#cut last 5 rows of the dataframe and transpose them\n",
    "#create new dataframe\n",
    "#merge"
   ]
  }
 ],
 "metadata": {
  "kernelspec": {
   "display_name": "Python 3",
   "language": "python",
   "name": "python3"
  },
  "language_info": {
   "codemirror_mode": {
    "name": "ipython",
    "version": 3
   },
   "file_extension": ".py",
   "mimetype": "text/x-python",
   "name": "python",
   "nbconvert_exporter": "python",
   "pygments_lexer": "ipython3",
   "version": "3.8.1"
  }
 },
 "nbformat": 4,
 "nbformat_minor": 4
}
