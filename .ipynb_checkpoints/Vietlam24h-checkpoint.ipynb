{
 "cells": [
  {
   "cell_type": "code",
   "execution_count": 2,
   "metadata": {},
   "outputs": [],
   "source": [
    "import requests\n",
    "import pandas as pd\n",
    "from datetime import date\n",
    "from bs4 import BeautifulSoup\n",
    "from pandas import DataFrame"
   ]
  },
  {
   "cell_type": "code",
   "execution_count": 3,
   "metadata": {},
   "outputs": [],
   "source": [
    "#Time by Days\n",
    "today = date.today()"
   ]
  },
  {
   "cell_type": "code",
   "execution_count": 4,
   "metadata": {},
   "outputs": [
    {
     "name": "stdout",
     "output_type": "stream",
     "text": [
      "3838\n"
     ]
    }
   ],
   "source": [
    "#Total Jobs of Vietlam24h\n",
    "url = \"https://vieclam24h.vn/tim-kiem-viec-lam-nhanh?hdn_tu_khoa=&tk_select_gate=&hdn_nganh_nghe_cap1=&hdn_dia_diem=\"\n",
    "page = requests.get(url)\n",
    "\n",
    "soup = BeautifulSoup(page.text, 'html.parser')\n",
    "soup.prettify()\n",
    "\n",
    "total_jobs_r = soup.find(\"span\", class_=\"text-tim-nhat uppercase\").get_text()\n",
    "total_jobs = total_jobs_r[-5:-1]\n",
    "print(total_jobs)"
   ]
  },
  {
   "cell_type": "code",
   "execution_count": 5,
   "metadata": {},
   "outputs": [],
   "source": [
    "#Original DataFrame\n",
    "Vietlam24h = {'Time': today,\n",
    "             'Total Jobs': total_jobs,\n",
    "             }\n",
    "\n",
    "master_df = DataFrame()"
   ]
  },
  {
   "cell_type": "code",
   "execution_count": 6,
   "metadata": {},
   "outputs": [],
   "source": [
    "#Jobs by industry: lao dong pho thong\n",
    "url_ind_list = [\"https://vieclam24h.vn/mien-nam/viec-lam-lao-dong-pho-thong/viec-lam-theo-nganh-nghe\",\n",
    "               'https://vieclam24h.vn/mien-nam/viec-lam-quan-ly/viec-lam-theo-nganh-nghe',\n",
    "               'https://vieclam24h.vn/mien-nam/viec-lam-chuyen-mon/viec-lam-theo-nganh-nghe',\n",
    "               'https://vieclam24h.vn/mien-nam/viec-lam-ban-thoi-gian/viec-lam-theo-nganh-nghe']\n",
    "result = []\n",
    "for url_ind in url_ind_list:\n",
    "    page = requests.get(url_ind)\n",
    "    soup = BeautifulSoup(page.text, 'html.parser')\n",
    "    soup.prettify()\n",
    "\n",
    "    senority = soup.find('span', class_='txt-ghi mb10 font13 italic').get_text()\n",
    "    senority = senority[16:]\n",
    "\n",
    "    industries_url = []\n",
    "    full_ind_dict = {}\n",
    "    full_ind = []\n",
    "    industries_jobs_no = []\n",
    "\n",
    "    industries_url_raw = soup.find('div', class_='pl_8 pr_8').find_all('a', href=True)\n",
    "    def unique(list1): \n",
    "\n",
    "        # insert the list to the set \n",
    "        list_set = set(list1) \n",
    "        # convert the set to the list \n",
    "        unique_list = (list(list_set)) \n",
    "        return unique_list\n",
    "\n",
    "    industries_url_raw=unique(industries_url_raw)\n",
    "\n",
    "    for industry in industries_url_raw:\n",
    "        href = industry.get('href')\n",
    "        industries_url.append(href)\n",
    "\n",
    "    for industry in industries_url:\n",
    "        page = requests.get(industry)\n",
    "\n",
    "        soup = BeautifulSoup(page.text, 'html.parser')\n",
    "        soup.prettify()\n",
    "\n",
    "        industry_no_r = soup.find('div', class_='box_white mt_16 bold').get_text()\n",
    "        industry_name_r = soup.find('div', class_='box_white mt_16 bold').find_all('span', class_='text_pink')[1].get_text()\n",
    "        full_ind.append(industry_name_r)\n",
    "        for s in industry_no_r.split(): \n",
    "            if s.isdigit():\n",
    "                industries_jobs_no = int(s)\n",
    "\n",
    "        full_ind_dict[f'{industry_name_r}'] = industries_jobs_no    \n",
    "    result.append(full_ind_dict)"
   ]
  },
  {
   "cell_type": "code",
   "execution_count": 7,
   "metadata": {},
   "outputs": [
    {
     "name": "stdout",
     "output_type": "stream",
     "text": [
      "{'Xây dựng': 207, 'Công nghiệp': 76, 'Lao động phổ thông': 139, 'Tổ chức sự kiện-Quà tặng': 6, 'Thực tập': 2, 'Hàng gia dụng': 5, 'Nhân sự': 102, 'Thiết kế đồ hoạ web': 51, 'Bưu chính': 2, 'Hoá học-Sinh học': 61, 'Ngoại thương-Xuất nhập khẩu': 92, 'Thực phẩm-Đồ uống': 82, 'KD bất động sản': 47, 'Pháp lý-Luật': 23, 'Báo chí-Truyền hình': 13, 'Nông-Lâm-Ngư nghiệp': 22, 'Điện-Điện tử-Điện lạnh': 159, 'Kho vận-Vật tư': 104, 'Nhân viên kinh doanh': 513, 'Điện tử viễn thông': 32, 'Khách sạn-Nhà hàng': 72, 'Giáo dục-Đào tạo': 19, 'Tư vấn': 361, 'Du lịch': 13, 'Game': 1, 'Promotion Girl (PG)': 0, 'IT phần cứng/mạng': 59, 'In ấn-Xuất bản': 38, 'Vận tải': 62, 'Thủ công mỹ nghệ': 10, 'Dầu khí-Hóa chất': 20, 'Chứng khoán- Vàng': 2, 'Thương mại điện tử': 19, 'Thiết kế-Mỹ thuật': 83, 'Hàng không': 4, 'Dệt may - Da giày': 62, 'IT phần mềm': 77, 'Thời trang': 27, 'Ngành nghề khác': 46, 'Kế toán-Kiểm toán': 368, 'Ngân hàng': 76, 'Marketing-PR': 119, 'Hàng hải': 8, 'Thư ký-Trợ lý': 86, 'Hoạch định-Dự án': 19, 'Kỹ thuật': 302, 'Y tế-Dược': 77, 'Quan hệ đối ngoại': 19, 'Làm bán thời gian': 16, 'Spa-Mỹ phẩm-Trang sức': 39, 'Hành chính-Văn phòng': 655, 'Kiến trúc-TK nội thất': 111, 'Người giúp việc': 3, 'Nghệ thuật - Điện ảnh': 3, 'Tiếp thị-Quảng cáo': 55, 'Kỹ thuật ứng dụng': 49, 'Ô tô - Xe máy': 59, 'Sinh viên làm thêm': 16, 'Tài chính-Đầu tư': 78, 'Bảo hiểm': 15, 'An ninh-Bảo vệ': 21, 'Biên-Phiên dịch': 54, 'NV trông quán Internet': 0, 'Bán hàng ': 386, 'Cơ khí-Chế tạo': 183, 'Dịch vụ': 84, 'Công nghệ cao': 8}\n"
     ]
    }
   ],
   "source": [
    "final = {}\n",
    "\n",
    "def checkNone(x, key):\n",
    "    if key not in x:\n",
    "        return 0\n",
    "    else:\n",
    "        return x[key]\n",
    "\n",
    "for key in result[3].keys():\n",
    "    total = checkNone(result[0],key) + checkNone(result[1],key) + checkNone(result[2],key) + checkNone(result[3],key)\n",
    "    final[key] = total\n",
    "\n",
    "print(final) \n",
    "total_jobs = sum(final.values())\n"
   ]
  },
  {
   "cell_type": "code",
   "execution_count": 8,
   "metadata": {},
   "outputs": [],
   "source": [
    "Vietlam24h = {'Time': today,\n",
    "             'Total Jobs': total_jobs,\n",
    "             'Industry': full_ind,\n",
    "             }\n",
    "\n",
    "df = DataFrame(Vietlam24h, columns=['Time', 'Total Jobs', 'Industry'])"
   ]
  },
  {
   "cell_type": "code",
   "execution_count": 9,
   "metadata": {},
   "outputs": [
    {
     "name": "stdout",
     "output_type": "stream",
     "text": [
      "          Time  Total Jobs  Intern  Junior  Senior  Manager/Director  \\\n",
      "0   2020-02-19        5622    49.0   431.0  4898.0             427.0   \n",
      "1   2020-02-19        5622    49.0   431.0  4898.0             427.0   \n",
      "2   2020-02-19        5622    49.0   431.0  4898.0             427.0   \n",
      "3   2020-02-19        5622    49.0   431.0  4898.0             427.0   \n",
      "4   2020-02-19        5622    49.0   431.0  4898.0             427.0   \n",
      "..         ...         ...     ...     ...     ...               ...   \n",
      "62  2020-02-19        5622    49.0   431.0  4898.0             427.0   \n",
      "63  2020-02-19        5622    49.0   431.0  4898.0             427.0   \n",
      "64  2020-02-19        5622    49.0   431.0  4898.0             427.0   \n",
      "65  2020-02-19        5622    49.0   431.0  4898.0             427.0   \n",
      "66  2020-02-19        5622    49.0   431.0  4898.0             427.0   \n",
      "\n",
      "                    Industry  \n",
      "0                   Xây dựng  \n",
      "1                Công nghiệp  \n",
      "2         Lao động phổ thông  \n",
      "3   Tổ chức sự kiện-Quà tặng  \n",
      "4                   Thực tập  \n",
      "..                       ...  \n",
      "62    NV trông quán Internet  \n",
      "63                 Bán hàng   \n",
      "64            Cơ khí-Chế tạo  \n",
      "65                   Dịch vụ  \n",
      "66             Công nghệ cao  \n",
      "\n",
      "[67 rows x 7 columns]\n"
     ]
    }
   ],
   "source": [
    "senior_pd_r = pd.DataFrame.from_dict(result)\n",
    "no_of_senior = senior_pd_r.sum(axis=1, skipna=True)\n",
    "no_of_senior = pd.DataFrame(no_of_senior)\n",
    "\n",
    "dictionary = no_of_senior.to_dict()\n",
    "d = dictionary.get(0)\n",
    "Vietlam24h.update(d)\n",
    "\n",
    "df = DataFrame(Vietlam24h, columns=['Time', 'Total Jobs',3,0,2,1, 'Industry'])\n",
    "df.rename(columns={3:'Intern', 0:'Junior', 2: 'Senior', 1: 'Manager/Director'}, inplace = True)\n",
    "\n",
    "print(df)"
   ]
  },
  {
   "cell_type": "code",
   "execution_count": 14,
   "metadata": {},
   "outputs": [
    {
     "name": "stdout",
     "output_type": "stream",
     "text": [
      "                Industry  Junior  Manager/Director  Senior  Intern  \\\n",
      "0     Sinh viên làm thêm     4.0               NaN     NaN    12.0   \n",
      "1               Kỹ thuật    11.0              15.0   276.0     0.0   \n",
      "2   Nhân viên kinh doanh    12.0               NaN   500.0     1.0   \n",
      "3        Người giúp việc     3.0               NaN     NaN     0.0   \n",
      "4         In ấn-Xuất bản     1.0               1.0    36.0     0.0   \n",
      "..                   ...     ...               ...     ...     ...   \n",
      "63     IT phần cứng/mạng     NaN               0.0    58.0     1.0   \n",
      "64          Pháp lý-Luật     NaN               5.0    18.0     0.0   \n",
      "65   Thiết kế đồ hoạ web     NaN               1.0    50.0     0.0   \n",
      "66             Y tế-Dược     NaN               3.0    74.0     0.0   \n",
      "67              Thực tập     NaN               NaN     NaN     2.0   \n",
      "\n",
      "    No. of Jobs  \n",
      "0          16.0  \n",
      "1         302.0  \n",
      "2         513.0  \n",
      "3           3.0  \n",
      "4          38.0  \n",
      "..          ...  \n",
      "63         59.0  \n",
      "64         23.0  \n",
      "65         51.0  \n",
      "66         77.0  \n",
      "67          2.0  \n",
      "\n",
      "[68 rows x 6 columns]\n"
     ]
    }
   ],
   "source": [
    "senior_pd = senior_pd_r.transpose()\n",
    "\n",
    "data = senior_pd.sum(axis = 1, skipna=True)\n",
    "senior_pd.insert(4, 'No. of Jobs', data)\n",
    "# senior_pd['Total'] = senior_pd.sum(axis = 1, skipna=True)\n",
    "senior_pd = senior_pd.reset_index()\n",
    "senior_pd.rename(columns = {'index':'Industry',0:'Junior',1: 'Manager/Director', 2:'Senior', 3: 'Intern'}, inplace = True)\n",
    "\n",
    "print(senior_pd)"
   ]
  },
  {
   "cell_type": "code",
   "execution_count": 15,
   "metadata": {},
   "outputs": [
    {
     "name": "stdout",
     "output_type": "stream",
     "text": [
      "          Time  Total Jobs  Intern  Junior  Senior  Manager/Director  \\\n",
      "0   2020-02-19        5622    49.0   431.0  4898.0             427.0   \n",
      "1   2020-02-19        5622    49.0   431.0  4898.0             427.0   \n",
      "2   2020-02-19        5622    49.0   431.0  4898.0             427.0   \n",
      "3   2020-02-19        5622    49.0   431.0  4898.0             427.0   \n",
      "4   2020-02-19        5622    49.0   431.0  4898.0             427.0   \n",
      "..         ...         ...     ...     ...     ...               ...   \n",
      "62  2020-02-19        5622    49.0   431.0  4898.0             427.0   \n",
      "63  2020-02-19        5622    49.0   431.0  4898.0             427.0   \n",
      "64  2020-02-19        5622    49.0   431.0  4898.0             427.0   \n",
      "65  2020-02-19        5622    49.0   431.0  4898.0             427.0   \n",
      "66  2020-02-19        5622    49.0   431.0  4898.0             427.0   \n",
      "\n",
      "                    Industry  No. of Jobs  \n",
      "0                   Xây dựng        207.0  \n",
      "1                Công nghiệp         76.0  \n",
      "2         Lao động phổ thông        139.0  \n",
      "3   Tổ chức sự kiện-Quà tặng          6.0  \n",
      "4                   Thực tập          2.0  \n",
      "..                       ...          ...  \n",
      "62    NV trông quán Internet          0.0  \n",
      "63                 Bán hàng         386.0  \n",
      "64            Cơ khí-Chế tạo        183.0  \n",
      "65                   Dịch vụ         84.0  \n",
      "66             Công nghệ cao          8.0  \n",
      "\n",
      "[67 rows x 8 columns]\n"
     ]
    }
   ],
   "source": [
    "Vietlam24h_result = pd.merge(df,\n",
    "                 senior_pd[['Industry','No. of Jobs']],\n",
    "                 on='Industry')\n",
    "# Vietlam24h_result.sort_values(by=['Total'])\n",
    "print(Vietlam24h_result)"
   ]
  },
  {
   "cell_type": "code",
   "execution_count": null,
   "metadata": {},
   "outputs": [],
   "source": [
    "df.to_csv(\"vietlam24h.csv\")"
   ]
  }
 ],
 "metadata": {
  "kernelspec": {
   "display_name": "Python 3",
   "language": "python",
   "name": "python3"
  },
  "language_info": {
   "codemirror_mode": {
    "name": "ipython",
    "version": 3
   },
   "file_extension": ".py",
   "mimetype": "text/x-python",
   "name": "python",
   "nbconvert_exporter": "python",
   "pygments_lexer": "ipython3",
   "version": "3.8.1"
  }
 },
 "nbformat": 4,
 "nbformat_minor": 4
}
