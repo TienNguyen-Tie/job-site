{
 "cells": [
  {
   "cell_type": "code",
   "execution_count": 1,
   "metadata": {},
   "outputs": [],
   "source": [
    "import requests\n",
    "import pandas as pd\n",
    "from datetime import date\n",
    "from bs4 import BeautifulSoup\n",
    "from pandas import DataFrame"
   ]
  },
  {
   "cell_type": "code",
   "execution_count": 2,
   "metadata": {},
   "outputs": [],
   "source": [
    "#Time by Days\n",
    "today = date.today()"
   ]
  },
  {
   "cell_type": "code",
   "execution_count": 3,
   "metadata": {},
   "outputs": [
    {
     "name": "stdout",
     "output_type": "stream",
     "text": [
      "3556\n"
     ]
    }
   ],
   "source": [
    "#Total Jobs of Vietlam24h\n",
    "url = \"https://vieclam24h.vn/tim-kiem-viec-lam-nhanh?hdn_tu_khoa=&tk_select_gate=&hdn_nganh_nghe_cap1=&hdn_dia_diem=\"\n",
    "page = requests.get(url)\n",
    "\n",
    "soup = BeautifulSoup(page.text, 'html.parser')\n",
    "soup.prettify()\n",
    "\n",
    "total_jobs_r = soup.find(\"span\", class_=\"text-tim-nhat uppercase\").get_text()\n",
    "total_jobs = total_jobs_r[-5:-1]\n",
    "print(total_jobs)"
   ]
  },
  {
   "cell_type": "code",
   "execution_count": 4,
   "metadata": {},
   "outputs": [],
   "source": [
    "#Original DataFrame\n",
    "Vietlam24h = {'Time': today,\n",
    "             'Total Jobs': total_jobs,\n",
    "             }\n",
    "\n",
    "master_df = DataFrame()"
   ]
  },
  {
   "cell_type": "code",
   "execution_count": 5,
   "metadata": {},
   "outputs": [],
   "source": [
    "#Jobs by industry: lao dong pho thong\n",
    "url_ind_list = [\"https://vieclam24h.vn/mien-nam/viec-lam-lao-dong-pho-thong/viec-lam-theo-nganh-nghe\",\n",
    "               'https://vieclam24h.vn/mien-nam/viec-lam-quan-ly/viec-lam-theo-nganh-nghe',\n",
    "               'https://vieclam24h.vn/mien-nam/viec-lam-chuyen-mon/viec-lam-theo-nganh-nghe',\n",
    "               'https://vieclam24h.vn/mien-nam/viec-lam-ban-thoi-gian/viec-lam-theo-nganh-nghe']\n",
    "result = []\n",
    "for url_ind in url_ind_list:\n",
    "    page = requests.get(url_ind)\n",
    "    soup = BeautifulSoup(page.text, 'html.parser')\n",
    "    soup.prettify()\n",
    "\n",
    "    senority = soup.find('span', class_='txt-ghi mb10 font13 italic').get_text()\n",
    "    senority = senority[16:]\n",
    "\n",
    "    industries_url = []\n",
    "    full_ind_dict = {}\n",
    "    full_ind = []\n",
    "    industries_jobs_no = []\n",
    "\n",
    "    industries_url_raw = soup.find('div', class_='pl_8 pr_8').find_all('a', href=True)\n",
    "    def unique(list1): \n",
    "\n",
    "        # insert the list to the set \n",
    "        list_set = set(list1) \n",
    "        # convert the set to the list \n",
    "        unique_list = (list(list_set)) \n",
    "        return unique_list\n",
    "\n",
    "    industries_url_raw=unique(industries_url_raw)\n",
    "\n",
    "    for industry in industries_url_raw:\n",
    "        href = industry.get('href')\n",
    "        industries_url.append(href)\n",
    "\n",
    "    for industry in industries_url:\n",
    "        page = requests.get(industry)\n",
    "\n",
    "        soup = BeautifulSoup(page.text, 'html.parser')\n",
    "        soup.prettify()\n",
    "\n",
    "        industry_no_r = soup.find('div', class_='box_white mt_16 bold').get_text()\n",
    "        industry_name_r = soup.find('div', class_='box_white mt_16 bold').find_all('span', class_='text_pink')[1].get_text()\n",
    "        full_ind.append(industry_name_r)\n",
    "        for s in industry_no_r.split(): \n",
    "            if s.isdigit():\n",
    "                industries_jobs_no = int(s)\n",
    "\n",
    "        full_ind_dict[f'{industry_name_r}'] = industries_jobs_no    \n",
    "    result.append(full_ind_dict)"
   ]
  },
  {
   "cell_type": "code",
   "execution_count": 1,
   "metadata": {},
   "outputs": [
    {
     "ename": "NameError",
     "evalue": "name 'result' is not defined",
     "output_type": "error",
     "traceback": [
      "\u001b[0;31m---------------------------------------------------------------------------\u001b[0m",
      "\u001b[0;31mNameError\u001b[0m                                 Traceback (most recent call last)",
      "\u001b[0;32m<ipython-input-1-46a89bd8261b>\u001b[0m in \u001b[0;36m<module>\u001b[0;34m\u001b[0m\n\u001b[0;32m----> 1\u001b[0;31m \u001b[0msum\u001b[0m\u001b[0;34m(\u001b[0m\u001b[0mresult\u001b[0m\u001b[0;34m.\u001b[0m\u001b[0mvalues\u001b[0m\u001b[0;34m(\u001b[0m\u001b[0;34m)\u001b[0m\u001b[0;34m)\u001b[0m\u001b[0;34m\u001b[0m\u001b[0;34m\u001b[0m\u001b[0m\n\u001b[0m",
      "\u001b[0;31mNameError\u001b[0m: name 'result' is not defined"
     ]
    }
   ],
   "source": [
    "sum(result.values())"
   ]
  },
  {
   "cell_type": "code",
   "execution_count": 7,
   "metadata": {},
   "outputs": [
    {
     "name": "stdout",
     "output_type": "stream",
     "text": [
      "{'Tư vấn': 326, 'Nhân sự': 92, 'Tiếp thị-Quảng cáo': 48, 'Xây dựng': 183, 'KD bất động sản': 39, 'Nhân viên kinh doanh': 465, 'NV trông quán Internet': 0, 'Dịch vụ': 80, 'Game': 1, 'Y tế-Dược': 72, 'Marketing-PR': 104, 'Bán hàng ': 354, 'An ninh-Bảo vệ': 19, 'Kho vận-Vật tư': 95, 'Làm bán thời gian': 15, 'Tổ chức sự kiện-Quà tặng': 5, 'Cơ khí-Chế tạo': 172, 'Dệt may - Da giày': 55, 'Kiến trúc-TK nội thất': 101, 'Hoạch định-Dự án': 16, 'IT phần mềm': 69, 'Người giúp việc': 3, 'Thủ công mỹ nghệ': 8, 'Kế toán-Kiểm toán': 336, 'Khách sạn-Nhà hàng': 67, 'Thời trang': 25, 'Hàng hải': 7, 'Thư ký-Trợ lý': 76, 'Ngoại thương-Xuất nhập khẩu': 86, 'Tài chính-Đầu tư': 77, 'Du lịch': 13, 'Biên-Phiên dịch': 48, 'Thực tập': 2, 'Hành chính-Văn phòng': 605, 'Lao động phổ thông': 130, 'Thiết kế đồ hoạ web': 44, 'Bưu chính': 2, 'Hoá học-Sinh học': 59, 'IT phần cứng/mạng': 52, 'Pháp lý-Luật': 22, 'Giáo dục-Đào tạo': 19, 'Công nghiệp': 75, 'Bảo hiểm': 14, 'Thiết kế-Mỹ thuật': 82, 'Chứng khoán- Vàng': 3, 'Nông-Lâm-Ngư nghiệp': 20, 'Nghệ thuật - Điện ảnh': 3, 'Công nghệ cao': 8, 'Kỹ thuật ứng dụng': 45, 'Sinh viên làm thêm': 16, 'In ấn-Xuất bản': 33, 'Spa-Mỹ phẩm-Trang sức': 37, 'Báo chí-Truyền hình': 11, 'Dầu khí-Hóa chất': 19, 'Promotion Girl (PG)': 0, 'Thực phẩm-Đồ uống': 80, 'Kỹ thuật': 278, 'Hàng gia dụng': 5, 'Điện-Điện tử-Điện lạnh': 145, 'Ngân hàng': 74, 'Hàng không': 4, 'Vận tải': 57, 'Quan hệ đối ngoại': 15, 'Điện tử viễn thông': 30, 'Ô tô - Xe máy': 50, 'Thương mại điện tử': 17, 'Ngành nghề khác': 43}\n"
     ]
    }
   ],
   "source": [
    "final = {}\n",
    "\n",
    "def checkNone(x, key):\n",
    "    if key not in x:\n",
    "        return 0\n",
    "    else:\n",
    "        return x[key]\n",
    "\n",
    "for key in result[3].keys():\n",
    "    total = checkNone(result[0],key) + checkNone(result[1],key) + checkNone(result[2],key) + checkNone(result[3],key)\n",
    "    final[key] = total\n",
    "\n",
    "print(final) \n",
    "total_jobs = sum(final.values())\n"
   ]
  },
  {
   "cell_type": "code",
   "execution_count": null,
   "metadata": {},
   "outputs": [],
   "source": []
  },
  {
   "cell_type": "code",
   "execution_count": 8,
   "metadata": {},
   "outputs": [],
   "source": [
    "Vietlam24h = {'Time': today,\n",
    "             'Total Jobs': total_jobs,\n",
    "             'Industry': full_ind,\n",
    "             }\n",
    "\n",
    "df = DataFrame(Vietlam24h, columns=['Time', 'Total Jobs', 'Industry'])"
   ]
  },
  {
   "cell_type": "code",
   "execution_count": 119,
   "metadata": {},
   "outputs": [
    {
     "name": "stdout",
     "output_type": "stream",
     "text": [
      "{0: 402.0, 1: 399.0, 2: 4478.0, 3: 46.0}\n",
      "          Time  Total Jobs  Intern  Junior  Senior  Manager/Director  \\\n",
      "0   2020-02-17        5156    46.0   402.0  4478.0             399.0   \n",
      "1   2020-02-17        5156    46.0   402.0  4478.0             399.0   \n",
      "2   2020-02-17        5156    46.0   402.0  4478.0             399.0   \n",
      "3   2020-02-17        5156    46.0   402.0  4478.0             399.0   \n",
      "4   2020-02-17        5156    46.0   402.0  4478.0             399.0   \n",
      "..         ...         ...     ...     ...     ...               ...   \n",
      "62  2020-02-17        5156    46.0   402.0  4478.0             399.0   \n",
      "63  2020-02-17        5156    46.0   402.0  4478.0             399.0   \n",
      "64  2020-02-17        5156    46.0   402.0  4478.0             399.0   \n",
      "65  2020-02-17        5156    46.0   402.0  4478.0             399.0   \n",
      "66  2020-02-17        5156    46.0   402.0  4478.0             399.0   \n",
      "\n",
      "              Industry  \n",
      "0               Tư vấn  \n",
      "1              Nhân sự  \n",
      "2   Tiếp thị-Quảng cáo  \n",
      "3             Xây dựng  \n",
      "4      KD bất động sản  \n",
      "..                 ...  \n",
      "62   Quan hệ đối ngoại  \n",
      "63  Điện tử viễn thông  \n",
      "64       Ô tô - Xe máy  \n",
      "65  Thương mại điện tử  \n",
      "66     Ngành nghề khác  \n",
      "\n",
      "[67 rows x 7 columns]\n"
     ]
    }
   ],
   "source": [
    "senior_pd_r = pd.DataFrame.from_dict(result)\n",
    "no_of_senior = senior_pd_r.sum(axis=1, skipna=True)\n",
    "no_of_senior = pd.DataFrame(no_of_senior)\n",
    "\n",
    "dictionary = no_of_senior.to_dict()\n",
    "d = dictionary.get(0)\n",
    "print(d)\n",
    "Vietlam24h.update(d)\n",
    "\n",
    "df = DataFrame(Vietlam24h, columns=['Time', 'Total Jobs',3,0,2,1, 'Industry'])\n",
    "df.rename(columns={3:'Intern', 0:'Junior', 2: 'Senior', 1: 'Manager/Director'}, inplace = True)\n",
    "\n",
    "print(df)"
   ]
  },
  {
   "cell_type": "code",
   "execution_count": 185,
   "metadata": {},
   "outputs": [
    {
     "name": "stdout",
     "output_type": "stream",
     "text": [
      "               Industry  Junior  Manager/Director  Senior  Intern  Total\n",
      "0       Ngành nghề khác    12.0               2.0    29.0     0.0   43.0\n",
      "1       KD bất động sản     0.0               2.0    37.0     0.0   39.0\n",
      "2         Hàng gia dụng     2.0               1.0     2.0     0.0    5.0\n",
      "3    Tiếp thị-Quảng cáo     1.0               2.0    45.0     0.0   48.0\n",
      "4                Tư vấn    15.0               4.0   304.0     3.0  326.0\n",
      "..                  ...     ...               ...     ...     ...    ...\n",
      "63        Công nghệ cao     NaN               1.0     7.0     0.0    8.0\n",
      "64     Hoạch định-Dự án     NaN               6.0    10.0     0.0   16.0\n",
      "65     Giáo dục-Đào tạo     NaN               0.0    18.0     1.0   19.0\n",
      "66  Quản trị kinh doanh     NaN              69.0   100.0     NaN  169.0\n",
      "67             Thực tập     NaN               NaN     NaN     2.0    2.0\n",
      "\n",
      "[68 rows x 6 columns]\n"
     ]
    }
   ],
   "source": [
    "senior_pd = senior_pd_r.transpose()\n",
    "\n",
    "data = senior_pd.sum(axis = 1, skipna=True)\n",
    "senior_pd.insert(4, 'Total', data)\n",
    "# senior_pd['Total'] = senior_pd.sum(axis = 1, skipna=True)\n",
    "senior_pd = senior_pd.reset_index()\n",
    "senior_pd.rename(columns = {'index':'Industry',0:'Junior',1: 'Manager/Director', 2:'Senior', 3: 'Intern'}, inplace = True)\n",
    "\n",
    "print(senior_pd)"
   ]
  },
  {
   "cell_type": "code",
   "execution_count": 186,
   "metadata": {},
   "outputs": [
    {
     "ename": "KeyError",
     "evalue": "\"['Total'] not in index\"",
     "output_type": "error",
     "traceback": [
      "\u001b[0;31m---------------------------------------------------------------------------\u001b[0m",
      "\u001b[0;31mKeyError\u001b[0m                                  Traceback (most recent call last)",
      "\u001b[0;32m<ipython-input-186-c9f7ff663c34>\u001b[0m in \u001b[0;36m<module>\u001b[0;34m\u001b[0m\n\u001b[1;32m      1\u001b[0m Vietlam24h_result = pd.merge(df,\n\u001b[0;32m----> 2\u001b[0;31m                  \u001b[0mSenior_pd\u001b[0m\u001b[0;34m[\u001b[0m\u001b[0;34m[\u001b[0m\u001b[0;34m'Industry'\u001b[0m\u001b[0;34m,\u001b[0m\u001b[0;34m'Total'\u001b[0m\u001b[0;34m]\u001b[0m\u001b[0;34m]\u001b[0m\u001b[0;34m,\u001b[0m\u001b[0;34m\u001b[0m\u001b[0;34m\u001b[0m\u001b[0m\n\u001b[0m\u001b[1;32m      3\u001b[0m                  on='Industry')\n\u001b[1;32m      4\u001b[0m \u001b[0;31m# Vietlam24h_result.sort_values(by=['Total'])\u001b[0m\u001b[0;34m\u001b[0m\u001b[0;34m\u001b[0m\u001b[0;34m\u001b[0m\u001b[0m\n\u001b[1;32m      5\u001b[0m \u001b[0mprint\u001b[0m\u001b[0;34m(\u001b[0m\u001b[0mVietlam24h_result\u001b[0m\u001b[0;34m)\u001b[0m\u001b[0;34m\u001b[0m\u001b[0;34m\u001b[0m\u001b[0m\n",
      "\u001b[0;32m/Library/Frameworks/Python.framework/Versions/3.8/lib/python3.8/site-packages/pandas/core/frame.py\u001b[0m in \u001b[0;36m__getitem__\u001b[0;34m(self, key)\u001b[0m\n\u001b[1;32m   2804\u001b[0m             \u001b[0;32mif\u001b[0m \u001b[0mis_iterator\u001b[0m\u001b[0;34m(\u001b[0m\u001b[0mkey\u001b[0m\u001b[0;34m)\u001b[0m\u001b[0;34m:\u001b[0m\u001b[0;34m\u001b[0m\u001b[0;34m\u001b[0m\u001b[0m\n\u001b[1;32m   2805\u001b[0m                 \u001b[0mkey\u001b[0m \u001b[0;34m=\u001b[0m \u001b[0mlist\u001b[0m\u001b[0;34m(\u001b[0m\u001b[0mkey\u001b[0m\u001b[0;34m)\u001b[0m\u001b[0;34m\u001b[0m\u001b[0;34m\u001b[0m\u001b[0m\n\u001b[0;32m-> 2806\u001b[0;31m             \u001b[0mindexer\u001b[0m \u001b[0;34m=\u001b[0m \u001b[0mself\u001b[0m\u001b[0;34m.\u001b[0m\u001b[0mloc\u001b[0m\u001b[0;34m.\u001b[0m\u001b[0m_get_listlike_indexer\u001b[0m\u001b[0;34m(\u001b[0m\u001b[0mkey\u001b[0m\u001b[0;34m,\u001b[0m \u001b[0maxis\u001b[0m\u001b[0;34m=\u001b[0m\u001b[0;36m1\u001b[0m\u001b[0;34m,\u001b[0m \u001b[0mraise_missing\u001b[0m\u001b[0;34m=\u001b[0m\u001b[0;32mTrue\u001b[0m\u001b[0;34m)\u001b[0m\u001b[0;34m[\u001b[0m\u001b[0;36m1\u001b[0m\u001b[0;34m]\u001b[0m\u001b[0;34m\u001b[0m\u001b[0;34m\u001b[0m\u001b[0m\n\u001b[0m\u001b[1;32m   2807\u001b[0m \u001b[0;34m\u001b[0m\u001b[0m\n\u001b[1;32m   2808\u001b[0m         \u001b[0;31m# take() does not accept boolean indexers\u001b[0m\u001b[0;34m\u001b[0m\u001b[0;34m\u001b[0m\u001b[0;34m\u001b[0m\u001b[0m\n",
      "\u001b[0;32m/Library/Frameworks/Python.framework/Versions/3.8/lib/python3.8/site-packages/pandas/core/indexing.py\u001b[0m in \u001b[0;36m_get_listlike_indexer\u001b[0;34m(self, key, axis, raise_missing)\u001b[0m\n\u001b[1;32m   1549\u001b[0m             \u001b[0mkeyarr\u001b[0m\u001b[0;34m,\u001b[0m \u001b[0mindexer\u001b[0m\u001b[0;34m,\u001b[0m \u001b[0mnew_indexer\u001b[0m \u001b[0;34m=\u001b[0m \u001b[0max\u001b[0m\u001b[0;34m.\u001b[0m\u001b[0m_reindex_non_unique\u001b[0m\u001b[0;34m(\u001b[0m\u001b[0mkeyarr\u001b[0m\u001b[0;34m)\u001b[0m\u001b[0;34m\u001b[0m\u001b[0;34m\u001b[0m\u001b[0m\n\u001b[1;32m   1550\u001b[0m \u001b[0;34m\u001b[0m\u001b[0m\n\u001b[0;32m-> 1551\u001b[0;31m         self._validate_read_indexer(\n\u001b[0m\u001b[1;32m   1552\u001b[0m             \u001b[0mkeyarr\u001b[0m\u001b[0;34m,\u001b[0m \u001b[0mindexer\u001b[0m\u001b[0;34m,\u001b[0m \u001b[0mo\u001b[0m\u001b[0;34m.\u001b[0m\u001b[0m_get_axis_number\u001b[0m\u001b[0;34m(\u001b[0m\u001b[0maxis\u001b[0m\u001b[0;34m)\u001b[0m\u001b[0;34m,\u001b[0m \u001b[0mraise_missing\u001b[0m\u001b[0;34m=\u001b[0m\u001b[0mraise_missing\u001b[0m\u001b[0;34m\u001b[0m\u001b[0;34m\u001b[0m\u001b[0m\n\u001b[1;32m   1553\u001b[0m         )\n",
      "\u001b[0;32m/Library/Frameworks/Python.framework/Versions/3.8/lib/python3.8/site-packages/pandas/core/indexing.py\u001b[0m in \u001b[0;36m_validate_read_indexer\u001b[0;34m(self, key, indexer, axis, raise_missing)\u001b[0m\n\u001b[1;32m   1643\u001b[0m             \u001b[0;32mif\u001b[0m \u001b[0;32mnot\u001b[0m \u001b[0;34m(\u001b[0m\u001b[0mself\u001b[0m\u001b[0;34m.\u001b[0m\u001b[0mname\u001b[0m \u001b[0;34m==\u001b[0m \u001b[0;34m\"loc\"\u001b[0m \u001b[0;32mand\u001b[0m \u001b[0;32mnot\u001b[0m \u001b[0mraise_missing\u001b[0m\u001b[0;34m)\u001b[0m\u001b[0;34m:\u001b[0m\u001b[0;34m\u001b[0m\u001b[0;34m\u001b[0m\u001b[0m\n\u001b[1;32m   1644\u001b[0m                 \u001b[0mnot_found\u001b[0m \u001b[0;34m=\u001b[0m \u001b[0mlist\u001b[0m\u001b[0;34m(\u001b[0m\u001b[0mset\u001b[0m\u001b[0;34m(\u001b[0m\u001b[0mkey\u001b[0m\u001b[0;34m)\u001b[0m \u001b[0;34m-\u001b[0m \u001b[0mset\u001b[0m\u001b[0;34m(\u001b[0m\u001b[0max\u001b[0m\u001b[0;34m)\u001b[0m\u001b[0;34m)\u001b[0m\u001b[0;34m\u001b[0m\u001b[0;34m\u001b[0m\u001b[0m\n\u001b[0;32m-> 1645\u001b[0;31m                 \u001b[0;32mraise\u001b[0m \u001b[0mKeyError\u001b[0m\u001b[0;34m(\u001b[0m\u001b[0;34mf\"{not_found} not in index\"\u001b[0m\u001b[0;34m)\u001b[0m\u001b[0;34m\u001b[0m\u001b[0;34m\u001b[0m\u001b[0m\n\u001b[0m\u001b[1;32m   1646\u001b[0m \u001b[0;34m\u001b[0m\u001b[0m\n\u001b[1;32m   1647\u001b[0m             \u001b[0;31m# we skip the warning on Categorical/Interval\u001b[0m\u001b[0;34m\u001b[0m\u001b[0;34m\u001b[0m\u001b[0;34m\u001b[0m\u001b[0m\n",
      "\u001b[0;31mKeyError\u001b[0m: \"['Total'] not in index\""
     ]
    }
   ],
   "source": [
    "Vietlam24h_result = pd.merge(df,\n",
    "                 Senior_pd[['Industry','Total']],\n",
    "                 on='Industry')\n",
    "# Vietlam24h_result.sort_values(by=['Total'])\n",
    "print(Vietlam24h_result)"
   ]
  },
  {
   "cell_type": "code",
   "execution_count": null,
   "metadata": {},
   "outputs": [],
   "source": [
    "df.to_csv(\"vietlam24h.csv\")"
   ]
  }
 ],
 "metadata": {
  "kernelspec": {
   "display_name": "Python 3",
   "language": "python",
   "name": "python3"
  },
  "language_info": {
   "codemirror_mode": {
    "name": "ipython",
    "version": 3
   },
   "file_extension": ".py",
   "mimetype": "text/x-python",
   "name": "python",
   "nbconvert_exporter": "python",
   "pygments_lexer": "ipython3",
   "version": "3.8.1"
  }
 },
 "nbformat": 4,
 "nbformat_minor": 4
}
