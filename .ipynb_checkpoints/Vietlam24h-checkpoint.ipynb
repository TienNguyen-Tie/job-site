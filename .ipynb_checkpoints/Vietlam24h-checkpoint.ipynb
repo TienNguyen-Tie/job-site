{
 "cells": [
  {
   "cell_type": "code",
   "execution_count": 1,
   "metadata": {},
   "outputs": [],
   "source": [
    "import requests\n",
    "import pandas as pd\n",
    "from bs4 import BeautifulSoup\n",
    "from pandas import DataFrame\n",
    "\n",
    "def to_int(x):\n",
    "    if type(x) is int:\n",
    "        return x\n",
    "    return int(x.replace(\",\",\"\"))"
   ]
  },
  {
   "cell_type": "code",
   "execution_count": 2,
   "metadata": {},
   "outputs": [
    {
     "data": {
      "text/plain": [
       "'2651'"
      ]
     },
     "execution_count": 2,
     "metadata": {},
     "output_type": "execute_result"
    }
   ],
   "source": [
    "url = \"https://vieclam24h.vn/tim-kiem-viec-lam-nhanh?hdn_tu_khoa=&tk_select_gate=&hdn_nganh_nghe_cap1=&hdn_dia_diem=\"\n",
    "page = requests.get(url)\n",
    "\n",
    "soup = BeautifulSoup(page.text, 'html.parser')\n",
    "soup.prettify()\n",
    "\n",
    "total_jobs_r = soup.find(\"span\", class_=\"text-tim-nhat uppercase\").get_text()\n",
    "total_jobs = total_jobs_r[-5:-1]\n",
    "total_jobs"
   ]
  },
  {
   "cell_type": "code",
   "execution_count": 3,
   "metadata": {},
   "outputs": [],
   "source": [
    "Vietlam24h = {\n",
    "             'Total Jobs': to_int(total_jobs),\n",
    "             }\n",
    "\n",
    "master_df = DataFrame()"
   ]
  },
  {
   "cell_type": "code",
   "execution_count": 4,
   "metadata": {},
   "outputs": [],
   "source": [
    "url_ind_list = [\"https://vieclam24h.vn/mien-nam/viec-lam-lao-dong-pho-thong/viec-lam-theo-nganh-nghe\",\n",
    "               'https://vieclam24h.vn/mien-nam/viec-lam-quan-ly/viec-lam-theo-nganh-nghe',\n",
    "               'https://vieclam24h.vn/mien-nam/viec-lam-chuyen-mon/viec-lam-theo-nganh-nghe',\n",
    "               'https://vieclam24h.vn/mien-nam/viec-lam-ban-thoi-gian/viec-lam-theo-nganh-nghe']\n",
    "result = []\n",
    "for url_ind in url_ind_list:\n",
    "    page = requests.get(url_ind)\n",
    "    soup = BeautifulSoup(page.text, 'html.parser')\n",
    "    soup.prettify()\n",
    "\n",
    "    senority = soup.find('span', class_='txt-ghi mb10 font13 italic').get_text()\n",
    "    senority = senority[16:]\n",
    "\n",
    "    industries_url = []\n",
    "    full_ind_dict = {}\n",
    "    full_ind = []\n",
    "    industries_jobs_no = []\n",
    "\n",
    "    industries_url_raw = soup.find('div', class_='pl_8 pr_8').find_all('a', href=True)\n",
    "    def unique(list1): \n",
    "\n",
    "        # insert the list to the set \n",
    "        list_set = set(list1) \n",
    "        # convert the set to the list \n",
    "        unique_list = (list(list_set)) \n",
    "        return unique_list\n",
    "\n",
    "    industries_url_raw=unique(industries_url_raw)\n",
    "\n",
    "    for industry in industries_url_raw:\n",
    "        href = industry.get('href')\n",
    "        industries_url.append(href)\n",
    "\n",
    "    for industry in industries_url:\n",
    "        page = requests.get(industry)\n",
    "\n",
    "        soup = BeautifulSoup(page.text, 'html.parser')\n",
    "\n",
    "        industry_no_r = soup.find('div', class_='box_white mt_16 bold').get_text()\n",
    "        industry_name_r = soup.find('div', class_='box_white mt_16 bold').find_all('span', class_='text_pink')[1].get_text()\n",
    "        full_ind.append(industry_name_r)\n",
    "        for s in industry_no_r.split(): \n",
    "            if s.isdigit():\n",
    "                industries_jobs_no = int(s)\n",
    "\n",
    "        full_ind_dict[f'{industry_name_r}'] = to_int(industries_jobs_no)   \n",
    "    result.append(full_ind_dict)"
   ]
  },
  {
   "cell_type": "code",
   "execution_count": 5,
   "metadata": {},
   "outputs": [],
   "source": [
    "final = {}\n",
    "\n",
    "def checkNone(x, key):\n",
    "    if key not in x:\n",
    "        return 0\n",
    "    else:\n",
    "        return x[key]\n",
    "\n",
    "for key in result[3].keys():\n",
    "    total = checkNone(result[0],key) + checkNone(result[1],key) + checkNone(result[2],key) + checkNone(result[3],key)\n",
    "    final[key] = total\n",
    "\n",
    "total_jobs = sum(final.values())\n"
   ]
  },
  {
   "cell_type": "code",
   "execution_count": 6,
   "metadata": {},
   "outputs": [],
   "source": [
    "Vietlam24h = {\n",
    "             'Total Jobs': total_jobs,\n",
    "             'Industry': full_ind,\n",
    "             }\n",
    "\n",
    "df = DataFrame(Vietlam24h, columns=['Total Jobs', 'Industry'])"
   ]
  },
  {
   "cell_type": "code",
   "execution_count": 7,
   "metadata": {},
   "outputs": [
    {
     "data": {
      "text/html": [
       "<div>\n",
       "<style scoped>\n",
       "    .dataframe tbody tr th:only-of-type {\n",
       "        vertical-align: middle;\n",
       "    }\n",
       "\n",
       "    .dataframe tbody tr th {\n",
       "        vertical-align: top;\n",
       "    }\n",
       "\n",
       "    .dataframe thead th {\n",
       "        text-align: right;\n",
       "    }\n",
       "</style>\n",
       "<table border=\"1\" class=\"dataframe\">\n",
       "  <thead>\n",
       "    <tr style=\"text-align: right;\">\n",
       "      <th></th>\n",
       "      <th>Total Jobs</th>\n",
       "      <th>Intern</th>\n",
       "      <th>Junior</th>\n",
       "      <th>Senior</th>\n",
       "      <th>Manager/Director</th>\n",
       "    </tr>\n",
       "  </thead>\n",
       "  <tbody>\n",
       "    <tr>\n",
       "      <th>0</th>\n",
       "      <td>3931</td>\n",
       "      <td>117.0</td>\n",
       "      <td>346.0</td>\n",
       "      <td>3183.0</td>\n",
       "      <td>410.0</td>\n",
       "    </tr>\n",
       "  </tbody>\n",
       "</table>\n",
       "</div>"
      ],
      "text/plain": [
       "   Total Jobs  Intern  Junior  Senior  Manager/Director\n",
       "0        3931   117.0   346.0  3183.0             410.0"
      ]
     },
     "execution_count": 7,
     "metadata": {},
     "output_type": "execute_result"
    }
   ],
   "source": [
    "senior_pd_r = pd.DataFrame.from_dict(result)\n",
    "no_of_senior = senior_pd_r.sum(axis=1, skipna=True)\n",
    "no_of_senior = pd.DataFrame(no_of_senior)\n",
    "\n",
    "dictionary = no_of_senior.to_dict()\n",
    "d = dictionary.get(0)\n",
    "Vietlam24h.update(d)\n",
    "\n",
    "df = DataFrame(Vietlam24h, columns=['Total Jobs',3,0,2,1],index=[0])\n",
    "df.rename(columns={3:'Intern', 0:'Junior', 2: 'Senior', 1: 'Manager/Director'}, inplace = True)\n",
    "Vietlam24h_result_sen = df\n",
    "Vietlam24h_result_sen"
   ]
  },
  {
   "cell_type": "code",
   "execution_count": 8,
   "metadata": {},
   "outputs": [],
   "source": [
    "senior_pd = senior_pd_r.transpose()\n",
    "\n",
    "data = senior_pd.sum(axis = 1, skipna=True)"
   ]
  },
  {
   "cell_type": "code",
   "execution_count": 9,
   "metadata": {},
   "outputs": [],
   "source": [
    "data = data.to_frame()"
   ]
  },
  {
   "cell_type": "code",
   "execution_count": 10,
   "metadata": {},
   "outputs": [
    {
     "data": {
      "text/html": [
       "<div>\n",
       "<style scoped>\n",
       "    .dataframe tbody tr th:only-of-type {\n",
       "        vertical-align: middle;\n",
       "    }\n",
       "\n",
       "    .dataframe tbody tr th {\n",
       "        vertical-align: top;\n",
       "    }\n",
       "\n",
       "    .dataframe thead th {\n",
       "        text-align: right;\n",
       "    }\n",
       "</style>\n",
       "<table border=\"1\" class=\"dataframe\">\n",
       "  <thead>\n",
       "    <tr style=\"text-align: right;\">\n",
       "      <th></th>\n",
       "      <th>Industry</th>\n",
       "      <th>No. of Jobs</th>\n",
       "    </tr>\n",
       "  </thead>\n",
       "  <tbody>\n",
       "    <tr>\n",
       "      <th>17</th>\n",
       "      <td>Nhân viên kinh doanh</td>\n",
       "      <td>423.0</td>\n",
       "    </tr>\n",
       "    <tr>\n",
       "      <th>50</th>\n",
       "      <td>Hành chính-Văn phòng</td>\n",
       "      <td>352.0</td>\n",
       "    </tr>\n",
       "    <tr>\n",
       "      <th>40</th>\n",
       "      <td>Bán hàng</td>\n",
       "      <td>296.0</td>\n",
       "    </tr>\n",
       "    <tr>\n",
       "      <th>16</th>\n",
       "      <td>Tư vấn</td>\n",
       "      <td>259.0</td>\n",
       "    </tr>\n",
       "    <tr>\n",
       "      <th>7</th>\n",
       "      <td>Kỹ thuật</td>\n",
       "      <td>228.0</td>\n",
       "    </tr>\n",
       "    <tr>\n",
       "      <th>...</th>\n",
       "      <td>...</td>\n",
       "      <td>...</td>\n",
       "    </tr>\n",
       "    <tr>\n",
       "      <th>32</th>\n",
       "      <td>Bưu chính</td>\n",
       "      <td>2.0</td>\n",
       "    </tr>\n",
       "    <tr>\n",
       "      <th>67</th>\n",
       "      <td>Thực tập</td>\n",
       "      <td>2.0</td>\n",
       "    </tr>\n",
       "    <tr>\n",
       "      <th>26</th>\n",
       "      <td>Game</td>\n",
       "      <td>1.0</td>\n",
       "    </tr>\n",
       "    <tr>\n",
       "      <th>27</th>\n",
       "      <td>Hàng không</td>\n",
       "      <td>1.0</td>\n",
       "    </tr>\n",
       "    <tr>\n",
       "      <th>15</th>\n",
       "      <td>NV trông quán Internet</td>\n",
       "      <td>0.0</td>\n",
       "    </tr>\n",
       "  </tbody>\n",
       "</table>\n",
       "<p>68 rows × 2 columns</p>\n",
       "</div>"
      ],
      "text/plain": [
       "                  Industry  No. of Jobs\n",
       "17    Nhân viên kinh doanh        423.0\n",
       "50    Hành chính-Văn phòng        352.0\n",
       "40               Bán hàng         296.0\n",
       "16                  Tư vấn        259.0\n",
       "7                 Kỹ thuật        228.0\n",
       "..                     ...          ...\n",
       "32               Bưu chính          2.0\n",
       "67                Thực tập          2.0\n",
       "26                    Game          1.0\n",
       "27              Hàng không          1.0\n",
       "15  NV trông quán Internet          0.0\n",
       "\n",
       "[68 rows x 2 columns]"
      ]
     },
     "execution_count": 10,
     "metadata": {},
     "output_type": "execute_result"
    }
   ],
   "source": [
    "data = data.reset_index()\n",
    "data.rename(columns={'index':'Industry', 0:'No. of Jobs'}, inplace = True)\n",
    "Vietlam24h_result_ind = data\n",
    "Vietlam24h_result_ind = Vietlam24h_result_ind.sort_values(by=['No. of Jobs'], ascending=False)\n",
    "Vietlam24h_result_ind\n"
   ]
  },
  {
   "cell_type": "code",
   "execution_count": null,
   "metadata": {},
   "outputs": [],
   "source": [
    "from datetime import date\n",
    "Vietlam24h_result_ind.to_csv(f'vietlam24h-ind-{date.today()}.csv')\n",
    "Vietlam24h_result_sen.to_csv(f'vietlam24h-sen-{date.today()}.csv')"
   ]
  },
  {
   "cell_type": "code",
   "execution_count": null,
   "metadata": {},
   "outputs": [],
   "source": []
  }
 ],
 "metadata": {
  "kernelspec": {
   "display_name": "Python 3",
   "language": "python",
   "name": "python3"
  },
  "language_info": {
   "codemirror_mode": {
    "name": "ipython",
    "version": 3
   },
   "file_extension": ".py",
   "mimetype": "text/x-python",
   "name": "python",
   "nbconvert_exporter": "python",
   "pygments_lexer": "ipython3",
   "version": "3.8.3"
  }
 },
 "nbformat": 4,
 "nbformat_minor": 4
}
