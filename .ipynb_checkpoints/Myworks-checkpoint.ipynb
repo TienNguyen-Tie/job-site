{
 "cells": [
  {
   "cell_type": "code",
   "execution_count": 2,
   "metadata": {},
   "outputs": [],
   "source": [
    "import requests\n",
    "import pandas as pd\n",
    "from datetime import date\n",
    "from bs4 import BeautifulSoup\n",
    "from pandas import DataFrame\n",
    "\n",
    "def to_int(x):\n",
    "    if type(x) is int:\n",
    "        return x\n",
    "    return int(x.replace(\",\",\"\"))"
   ]
  },
  {
   "cell_type": "code",
   "execution_count": 4,
   "metadata": {},
   "outputs": [
    {
     "name": "stdout",
     "output_type": "stream",
     "text": [
      "5853\n"
     ]
    }
   ],
   "source": [
    "#Total Jobs of Vietlam24h\n",
    "url = \"https://mywork.com.vn/tuyen-dung\"\n",
    "page = requests.get(url)\n",
    "\n",
    "soup = BeautifulSoup(page.text, 'html.parser')\n",
    "soup.prettify()\n",
    "\n",
    "total_jobs_r = soup.find(\"div\", class_=\"item item_1\").get_text()\n",
    "\n",
    "total_jobs = total_jobs_r.split()[2]\n",
    "total_jobs = to_int(total_jobs)\n",
    "print(total_jobs)"
   ]
  },
  {
   "cell_type": "code",
   "execution_count": 32,
   "metadata": {},
   "outputs": [
    {
     "name": "stdout",
     "output_type": "stream",
     "text": [
      "12136\n"
     ]
    }
   ],
   "source": [
    "#Jobs by Senority\n",
    "url_list = ('https://mywork.com.vn/tuyen-dung?ranks=1',\n",
    "           'https://mywork.com.vn/tuyen-dung?ranks=2',\n",
    "           'https://mywork.com.vn/tuyen-dung?ranks=3',\n",
    "           'https://mywork.com.vn/tuyen-dung?ranks=4',\n",
    "           'https://mywork.com.vn/tuyen-dung?ranks=5',\n",
    "           'https://mywork.com.vn/tuyen-dung?ranks=6')\n",
    "\n",
    "jobs_senority = ['Intern', 'Nhân Viên', 'Trưởng Nhóm', 'Trưởng Phòng', 'Phó Giám Đốc', 'Giám Đốc']\n",
    "jobs_senority_no = []\n",
    "\n",
    "for url_se in url_list:\n",
    "    page = requests.get(url_se)\n",
    "    \n",
    "    soup = BeautifulSoup(page.text, 'html.parser')\n",
    "    soup.prettify()\n",
    "\n",
    "    total_jobs_senority_r = soup.find(\"div\", class_=\"item item_1\").get_text()\n",
    "\n",
    "    total_jobs_senority = total_jobs_senority_r.split()[2]\n",
    "    \n",
    "    total_jobs_senority = to_int(total_jobs_senority)\n",
    "    jobs_senority_no.append(total_jobs_senority)\n",
    "    \n",
    "jobs_senority_dict = dict(zip(jobs_senority, jobs_senority_no))\n",
    "total_jobs = sum(jobs_senority_no)\n",
    "\n",
    "print(total_jobs)\n"
   ]
  },
  {
   "cell_type": "code",
   "execution_count": 45,
   "metadata": {},
   "outputs": [
    {
     "data": {
      "text/html": [
       "<div>\n",
       "<style scoped>\n",
       "    .dataframe tbody tr th:only-of-type {\n",
       "        vertical-align: middle;\n",
       "    }\n",
       "\n",
       "    .dataframe tbody tr th {\n",
       "        vertical-align: top;\n",
       "    }\n",
       "\n",
       "    .dataframe thead th {\n",
       "        text-align: right;\n",
       "    }\n",
       "</style>\n",
       "<table border=\"1\" class=\"dataframe\">\n",
       "  <thead>\n",
       "    <tr style=\"text-align: right;\">\n",
       "      <th></th>\n",
       "      <th>Total Jobs</th>\n",
       "      <th>Intern</th>\n",
       "      <th>Nhân Viên</th>\n",
       "      <th>Trưởng Nhóm</th>\n",
       "      <th>Trưởng Phòng</th>\n",
       "      <th>Phó Giám Đốc</th>\n",
       "      <th>Giám Đốc</th>\n",
       "    </tr>\n",
       "  </thead>\n",
       "  <tbody>\n",
       "    <tr>\n",
       "      <th>0</th>\n",
       "      <td>12136</td>\n",
       "      <td>5836</td>\n",
       "      <td>5495</td>\n",
       "      <td>446</td>\n",
       "      <td>256</td>\n",
       "      <td>56</td>\n",
       "      <td>47</td>\n",
       "    </tr>\n",
       "  </tbody>\n",
       "</table>\n",
       "</div>"
      ],
      "text/plain": [
       "   Total Jobs  Intern  Nhân Viên  Trưởng Nhóm  Trưởng Phòng  Phó Giám Đốc  \\\n",
       "0       12136    5836       5495          446           256            56   \n",
       "\n",
       "   Giám Đốc  \n",
       "0        47  "
      ]
     },
     "execution_count": 45,
     "metadata": {},
     "output_type": "execute_result"
    }
   ],
   "source": [
    "Myworks = pd.DataFrame.from_dict(jobs_senority_dict, orient='index')\n",
    "Myworks = Myworks.transpose()\n",
    "\n",
    "Myworks.insert(0, 'Total Jobs', total_jobs)\n",
    "\n",
    "Myworks"
   ]
  },
  {
   "cell_type": "code",
   "execution_count": 6,
   "metadata": {},
   "outputs": [
    {
     "ename": "AttributeError",
     "evalue": "'NoneType' object has no attribute 'find_all'",
     "output_type": "error",
     "traceback": [
      "\u001b[0;31m---------------------------------------------------------------------------\u001b[0m",
      "\u001b[0;31mAttributeError\u001b[0m                            Traceback (most recent call last)",
      "\u001b[0;32m<ipython-input-6-795120ef8ae7>\u001b[0m in \u001b[0;36m<module>\u001b[0;34m\u001b[0m\n\u001b[1;32m      3\u001b[0m \u001b[0mfull_job_inds_dict\u001b[0m \u001b[0;34m=\u001b[0m \u001b[0;34m{\u001b[0m\u001b[0;34m}\u001b[0m\u001b[0;34m\u001b[0m\u001b[0;34m\u001b[0m\u001b[0m\n\u001b[1;32m      4\u001b[0m \u001b[0;34m\u001b[0m\u001b[0m\n\u001b[0;32m----> 5\u001b[0;31m \u001b[0mjob_inds\u001b[0m \u001b[0;34m=\u001b[0m \u001b[0msoup\u001b[0m\u001b[0;34m.\u001b[0m\u001b[0mfind\u001b[0m\u001b[0;34m(\u001b[0m\u001b[0;34m'div'\u001b[0m\u001b[0;34m,\u001b[0m \u001b[0mclass_\u001b[0m\u001b[0;34m=\u001b[0m\u001b[0;34m'row box-follow-category'\u001b[0m\u001b[0;34m)\u001b[0m\u001b[0;34m.\u001b[0m\u001b[0mfind_all\u001b[0m\u001b[0;34m(\u001b[0m\u001b[0;34m'div'\u001b[0m\u001b[0;34m)\u001b[0m\u001b[0;34m\u001b[0m\u001b[0;34m\u001b[0m\u001b[0m\n\u001b[0m\u001b[1;32m      6\u001b[0m \u001b[0;34m\u001b[0m\u001b[0m\n\u001b[1;32m      7\u001b[0m \u001b[0;31m# for ind in job_inds:\u001b[0m\u001b[0;34m\u001b[0m\u001b[0;34m\u001b[0m\u001b[0;34m\u001b[0m\u001b[0m\n",
      "\u001b[0;31mAttributeError\u001b[0m: 'NoneType' object has no attribute 'find_all'"
     ]
    }
   ],
   "source": [
    "# Jobs by industries\n",
    "\n",
    "industries_url = []\n",
    "full_ind_dict = {}\n",
    "full_ind = []\n",
    "industries_jobs_no = []\n",
    "\n",
    "industries_url_raw = soup.find('div', class_='row box-follow-category').find_all('a', href=True)\n",
    "\n",
    "industry_name_r = soup.find('div', class_='box_white mt_16 bold').find_all('span', class_='text_pink')[1].get_text()\n",
    "full_ind.append(industry_name_r)\n",
    "\n",
    "def unique(list1): \n",
    "    # insert the list to the set \n",
    "    list_set = set(list1) \n",
    "    # convert the set to the list \n",
    "    unique_list = (list(list_set)) \n",
    "    return unique_list\n",
    "\n",
    "industries_url_raw=unique(industries_url_raw)\n",
    "\n",
    "for industry in industries_url_raw:\n",
    "    href = industry.get('href')\n",
    "    industries_url.append(href)\n",
    "\n",
    "for industry in industries_url:\n",
    "    page = requests.get(industry)\n",
    "\n",
    "    soup = BeautifulSoup(page.text, 'html.parser')\n",
    "\n",
    "    industry_no_r = soup.find('div', class_='box_white mt_16 bold').get_text()\n",
    "    industry_name_r = soup.find('div', class_='box_white mt_16 bold').find_all('span', class_='text_pink')[1].get_text()\n",
    "    full_ind.append(industry_name_r)\n",
    "    for s in industry_no_r.split(): \n",
    "        if s.isdigit():\n",
    "            industries_jobs_no = int(s)\n",
    "\n",
    "    full_ind_dict[f'{industry_name_r}'] = to_int(industries_jobs_no)   \n",
    "result.append(full_ind_dict)\n",
    "\n",
    "\n",
    "\n"
   ]
  },
  {
   "cell_type": "code",
   "execution_count": null,
   "metadata": {},
   "outputs": [],
   "source": []
  }
 ],
 "metadata": {
  "kernelspec": {
   "display_name": "Python 3",
   "language": "python",
   "name": "python3"
  },
  "language_info": {
   "codemirror_mode": {
    "name": "ipython",
    "version": 3
   },
   "file_extension": ".py",
   "mimetype": "text/x-python",
   "name": "python",
   "nbconvert_exporter": "python",
   "pygments_lexer": "ipython3",
   "version": "3.8.1"
  }
 },
 "nbformat": 4,
 "nbformat_minor": 4
}
